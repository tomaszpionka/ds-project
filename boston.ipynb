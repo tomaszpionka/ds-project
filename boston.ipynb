{
  "nbformat": 4,
  "nbformat_minor": 0,
  "metadata": {
    "colab": {
      "name": "boston.ipynb",
      "provenance": [],
      "collapsed_sections": [],
      "toc_visible": true,
      "authorship_tag": "ABX9TyNUV609ZsHLeei/XWrD/RrW",
      "include_colab_link": true
    },
    "kernelspec": {
      "name": "python3",
      "display_name": "Python 3"
    }
  },
  "cells": [
    {
      "cell_type": "markdown",
      "metadata": {
        "id": "view-in-github",
        "colab_type": "text"
      },
      "source": [
        "<a href=\"https://colab.research.google.com/github/tomaszpionka/ds-project/blob/main/boston.ipynb\" target=\"_parent\"><img src=\"https://colab.research.google.com/assets/colab-badge.svg\" alt=\"Open In Colab\"/></a>"
      ]
    },
    {
      "cell_type": "code",
      "metadata": {
        "colab": {
          "base_uri": "https://localhost:8080/"
        },
        "id": "A6Xo3Jv8lHkF",
        "outputId": "f6b0fcb4-ff39-491c-b994-d76d3d0ce0fb"
      },
      "source": [
        "from google.colab import files\r\n",
        "import pandas as pd\r\n",
        "\r\n",
        "# uploaded = files.upload()\r\n",
        "\r\n",
        "path = \"https://raw.githubusercontent.com/tomaszpionka/ds-project/main/BostonHousing.csv\"\r\n",
        "df = pd.read_csv(path)\r\n",
        "print(df.info())\r\n",
        "print(df.head(5))"
      ],
      "execution_count": 107,
      "outputs": [
        {
          "output_type": "stream",
          "text": [
            "<class 'pandas.core.frame.DataFrame'>\n",
            "RangeIndex: 506 entries, 0 to 505\n",
            "Data columns (total 14 columns):\n",
            " #   Column   Non-Null Count  Dtype  \n",
            "---  ------   --------------  -----  \n",
            " 0   crim     506 non-null    float64\n",
            " 1   zn       506 non-null    float64\n",
            " 2   indus    506 non-null    float64\n",
            " 3   chas     506 non-null    int64  \n",
            " 4   nox      506 non-null    float64\n",
            " 5   rm       506 non-null    float64\n",
            " 6   age      506 non-null    float64\n",
            " 7   dis      506 non-null    float64\n",
            " 8   rad      506 non-null    int64  \n",
            " 9   tax      506 non-null    int64  \n",
            " 10  ptratio  506 non-null    float64\n",
            " 11  b        506 non-null    float64\n",
            " 12  lstat    506 non-null    float64\n",
            " 13  medv     506 non-null    float64\n",
            "dtypes: float64(11), int64(3)\n",
            "memory usage: 55.5 KB\n",
            "None\n",
            "      crim    zn  indus  chas    nox  ...  tax  ptratio       b  lstat  medv\n",
            "0  0.00632  18.0   2.31     0  0.538  ...  296     15.3  396.90   4.98  24.0\n",
            "1  0.02731   0.0   7.07     0  0.469  ...  242     17.8  396.90   9.14  21.6\n",
            "2  0.02729   0.0   7.07     0  0.469  ...  242     17.8  392.83   4.03  34.7\n",
            "3  0.03237   0.0   2.18     0  0.458  ...  222     18.7  394.63   2.94  33.4\n",
            "4  0.06905   0.0   2.18     0  0.458  ...  222     18.7  396.90   5.33  36.2\n",
            "\n",
            "[5 rows x 14 columns]\n"
          ],
          "name": "stdout"
        }
      ]
    },
    {
      "cell_type": "markdown",
      "metadata": {
        "id": "iqyjXTMcBjCi"
      },
      "source": [
        "# Zadanie 1 (6ptk)\r\n",
        "Dokonaj podziału danych na zbiór treningowy i test w proporcji 0,75/0,25."
      ]
    },
    {
      "cell_type": "code",
      "metadata": {
        "id": "ZmiPCWPjBrt3"
      },
      "source": [
        "df = df.drop(['chas'], axis = 1)"
      ],
      "execution_count": 108,
      "outputs": []
    },
    {
      "cell_type": "code",
      "metadata": {
        "id": "t-sg9bGLHiS4",
        "colab": {
          "base_uri": "https://localhost:8080/",
          "height": 458
        },
        "outputId": "bf0828ab-421e-4b62-a66a-8a480202ab23"
      },
      "source": [
        "df.describe().T"
      ],
      "execution_count": 109,
      "outputs": [
        {
          "output_type": "execute_result",
          "data": {
            "text/html": [
              "<div>\n",
              "<style scoped>\n",
              "    .dataframe tbody tr th:only-of-type {\n",
              "        vertical-align: middle;\n",
              "    }\n",
              "\n",
              "    .dataframe tbody tr th {\n",
              "        vertical-align: top;\n",
              "    }\n",
              "\n",
              "    .dataframe thead th {\n",
              "        text-align: right;\n",
              "    }\n",
              "</style>\n",
              "<table border=\"1\" class=\"dataframe\">\n",
              "  <thead>\n",
              "    <tr style=\"text-align: right;\">\n",
              "      <th></th>\n",
              "      <th>count</th>\n",
              "      <th>mean</th>\n",
              "      <th>std</th>\n",
              "      <th>min</th>\n",
              "      <th>25%</th>\n",
              "      <th>50%</th>\n",
              "      <th>75%</th>\n",
              "      <th>max</th>\n",
              "    </tr>\n",
              "  </thead>\n",
              "  <tbody>\n",
              "    <tr>\n",
              "      <th>crim</th>\n",
              "      <td>506.0</td>\n",
              "      <td>3.613524</td>\n",
              "      <td>8.601545</td>\n",
              "      <td>0.00632</td>\n",
              "      <td>0.082045</td>\n",
              "      <td>0.25651</td>\n",
              "      <td>3.677082</td>\n",
              "      <td>88.9762</td>\n",
              "    </tr>\n",
              "    <tr>\n",
              "      <th>zn</th>\n",
              "      <td>506.0</td>\n",
              "      <td>11.363636</td>\n",
              "      <td>23.322453</td>\n",
              "      <td>0.00000</td>\n",
              "      <td>0.000000</td>\n",
              "      <td>0.00000</td>\n",
              "      <td>12.500000</td>\n",
              "      <td>100.0000</td>\n",
              "    </tr>\n",
              "    <tr>\n",
              "      <th>indus</th>\n",
              "      <td>506.0</td>\n",
              "      <td>11.136779</td>\n",
              "      <td>6.860353</td>\n",
              "      <td>0.46000</td>\n",
              "      <td>5.190000</td>\n",
              "      <td>9.69000</td>\n",
              "      <td>18.100000</td>\n",
              "      <td>27.7400</td>\n",
              "    </tr>\n",
              "    <tr>\n",
              "      <th>nox</th>\n",
              "      <td>506.0</td>\n",
              "      <td>0.554695</td>\n",
              "      <td>0.115878</td>\n",
              "      <td>0.38500</td>\n",
              "      <td>0.449000</td>\n",
              "      <td>0.53800</td>\n",
              "      <td>0.624000</td>\n",
              "      <td>0.8710</td>\n",
              "    </tr>\n",
              "    <tr>\n",
              "      <th>rm</th>\n",
              "      <td>506.0</td>\n",
              "      <td>6.284634</td>\n",
              "      <td>0.702617</td>\n",
              "      <td>3.56100</td>\n",
              "      <td>5.885500</td>\n",
              "      <td>6.20850</td>\n",
              "      <td>6.623500</td>\n",
              "      <td>8.7800</td>\n",
              "    </tr>\n",
              "    <tr>\n",
              "      <th>age</th>\n",
              "      <td>506.0</td>\n",
              "      <td>68.574901</td>\n",
              "      <td>28.148861</td>\n",
              "      <td>2.90000</td>\n",
              "      <td>45.025000</td>\n",
              "      <td>77.50000</td>\n",
              "      <td>94.075000</td>\n",
              "      <td>100.0000</td>\n",
              "    </tr>\n",
              "    <tr>\n",
              "      <th>dis</th>\n",
              "      <td>506.0</td>\n",
              "      <td>3.795043</td>\n",
              "      <td>2.105710</td>\n",
              "      <td>1.12960</td>\n",
              "      <td>2.100175</td>\n",
              "      <td>3.20745</td>\n",
              "      <td>5.188425</td>\n",
              "      <td>12.1265</td>\n",
              "    </tr>\n",
              "    <tr>\n",
              "      <th>rad</th>\n",
              "      <td>506.0</td>\n",
              "      <td>9.549407</td>\n",
              "      <td>8.707259</td>\n",
              "      <td>1.00000</td>\n",
              "      <td>4.000000</td>\n",
              "      <td>5.00000</td>\n",
              "      <td>24.000000</td>\n",
              "      <td>24.0000</td>\n",
              "    </tr>\n",
              "    <tr>\n",
              "      <th>tax</th>\n",
              "      <td>506.0</td>\n",
              "      <td>408.237154</td>\n",
              "      <td>168.537116</td>\n",
              "      <td>187.00000</td>\n",
              "      <td>279.000000</td>\n",
              "      <td>330.00000</td>\n",
              "      <td>666.000000</td>\n",
              "      <td>711.0000</td>\n",
              "    </tr>\n",
              "    <tr>\n",
              "      <th>ptratio</th>\n",
              "      <td>506.0</td>\n",
              "      <td>18.455534</td>\n",
              "      <td>2.164946</td>\n",
              "      <td>12.60000</td>\n",
              "      <td>17.400000</td>\n",
              "      <td>19.05000</td>\n",
              "      <td>20.200000</td>\n",
              "      <td>22.0000</td>\n",
              "    </tr>\n",
              "    <tr>\n",
              "      <th>b</th>\n",
              "      <td>506.0</td>\n",
              "      <td>356.674032</td>\n",
              "      <td>91.294864</td>\n",
              "      <td>0.32000</td>\n",
              "      <td>375.377500</td>\n",
              "      <td>391.44000</td>\n",
              "      <td>396.225000</td>\n",
              "      <td>396.9000</td>\n",
              "    </tr>\n",
              "    <tr>\n",
              "      <th>lstat</th>\n",
              "      <td>506.0</td>\n",
              "      <td>12.653063</td>\n",
              "      <td>7.141062</td>\n",
              "      <td>1.73000</td>\n",
              "      <td>6.950000</td>\n",
              "      <td>11.36000</td>\n",
              "      <td>16.955000</td>\n",
              "      <td>37.9700</td>\n",
              "    </tr>\n",
              "    <tr>\n",
              "      <th>medv</th>\n",
              "      <td>506.0</td>\n",
              "      <td>22.532806</td>\n",
              "      <td>9.197104</td>\n",
              "      <td>5.00000</td>\n",
              "      <td>17.025000</td>\n",
              "      <td>21.20000</td>\n",
              "      <td>25.000000</td>\n",
              "      <td>50.0000</td>\n",
              "    </tr>\n",
              "  </tbody>\n",
              "</table>\n",
              "</div>"
            ],
            "text/plain": [
              "         count        mean         std  ...        50%         75%       max\n",
              "crim     506.0    3.613524    8.601545  ...    0.25651    3.677082   88.9762\n",
              "zn       506.0   11.363636   23.322453  ...    0.00000   12.500000  100.0000\n",
              "indus    506.0   11.136779    6.860353  ...    9.69000   18.100000   27.7400\n",
              "nox      506.0    0.554695    0.115878  ...    0.53800    0.624000    0.8710\n",
              "rm       506.0    6.284634    0.702617  ...    6.20850    6.623500    8.7800\n",
              "age      506.0   68.574901   28.148861  ...   77.50000   94.075000  100.0000\n",
              "dis      506.0    3.795043    2.105710  ...    3.20745    5.188425   12.1265\n",
              "rad      506.0    9.549407    8.707259  ...    5.00000   24.000000   24.0000\n",
              "tax      506.0  408.237154  168.537116  ...  330.00000  666.000000  711.0000\n",
              "ptratio  506.0   18.455534    2.164946  ...   19.05000   20.200000   22.0000\n",
              "b        506.0  356.674032   91.294864  ...  391.44000  396.225000  396.9000\n",
              "lstat    506.0   12.653063    7.141062  ...   11.36000   16.955000   37.9700\n",
              "medv     506.0   22.532806    9.197104  ...   21.20000   25.000000   50.0000\n",
              "\n",
              "[13 rows x 8 columns]"
            ]
          },
          "metadata": {
            "tags": []
          },
          "execution_count": 109
        }
      ]
    },
    {
      "cell_type": "code",
      "metadata": {
        "id": "tD0UUBgSGKF7"
      },
      "source": [
        "# target\r\n",
        "df_y = df['medv']\r\n",
        "# data\r\n",
        "df_x = df.drop(['medv'], axis = 1)"
      ],
      "execution_count": 110,
      "outputs": []
    },
    {
      "cell_type": "code",
      "metadata": {
        "id": "q-Yl6iRxF6Ow"
      },
      "source": [
        "import numpy as np\r\n",
        "import matplotlib.pyplot as plt\r\n",
        "import seaborn as sns"
      ],
      "execution_count": 111,
      "outputs": []
    },
    {
      "cell_type": "code",
      "metadata": {
        "id": "qugExstDHntG"
      },
      "source": [
        "from sklearn.model_selection import train_test_split\r\n",
        "x_train, x_test, y_train, y_test = train_test_split(df_x, df_y, test_size = 0.25, random_state = 42)"
      ],
      "execution_count": 112,
      "outputs": []
    },
    {
      "cell_type": "markdown",
      "metadata": {
        "id": "pdbAPfjTFluR"
      },
      "source": [
        "# Zadanie 2 (6ptk)\r\n",
        "Usuń ze zbioru kolumną „Chas”. Dokonaj standaryzacji wszystkich kolumn poza „Medv”"
      ]
    },
    {
      "cell_type": "code",
      "metadata": {
        "id": "xX3dOtGXGDtA",
        "colab": {
          "base_uri": "https://localhost:8080/"
        },
        "outputId": "4347cd12-9b76-425a-db36-fb8bd67ecb20"
      },
      "source": [
        "from sklearn.preprocessing import StandardScaler\r\n",
        "ss = StandardScaler()\r\n",
        "x_train_standard = ss.fit_transform(x_train)\r\n",
        "x_test_standard = ss.fit_transform(x_test)\r\n",
        "\r\n",
        "print(x_train_standard.mean(axis = 0))\r\n",
        "print(x_train_standard.std(axis = 0))"
      ],
      "execution_count": 113,
      "outputs": [
        {
          "output_type": "stream",
          "text": [
            "[-8.43652325e-17  2.22630475e-17  3.35117451e-16 -5.69465319e-16\n",
            "  1.52326114e-17 -9.84261046e-17  9.37391472e-18  8.08500145e-17\n",
            "  9.72543652e-17 -7.82721879e-16 -1.17173934e-17 -2.23802214e-16]\n",
            "[1. 1. 1. 1. 1. 1. 1. 1. 1. 1. 1. 1.]\n"
          ],
          "name": "stdout"
        }
      ]
    },
    {
      "cell_type": "markdown",
      "metadata": {
        "id": "0k4-WTD6Bt8r"
      },
      "source": [
        "\r\n",
        "# Zadanie 3 (6ptk)\r\n",
        "Przedstaw w formie heatmapy oraz ramki danych, macierz korelacji dla wszystkich kolumn danych."
      ]
    },
    {
      "cell_type": "code",
      "metadata": {
        "id": "PF_pR7QbKXLo",
        "colab": {
          "base_uri": "https://localhost:8080/",
          "height": 458
        },
        "outputId": "b06f78a0-e44a-4f39-e6e8-153c87a8272c"
      },
      "source": [
        "df_corr = df.corr()\r\n",
        "df_corr"
      ],
      "execution_count": 114,
      "outputs": [
        {
          "output_type": "execute_result",
          "data": {
            "text/html": [
              "<div>\n",
              "<style scoped>\n",
              "    .dataframe tbody tr th:only-of-type {\n",
              "        vertical-align: middle;\n",
              "    }\n",
              "\n",
              "    .dataframe tbody tr th {\n",
              "        vertical-align: top;\n",
              "    }\n",
              "\n",
              "    .dataframe thead th {\n",
              "        text-align: right;\n",
              "    }\n",
              "</style>\n",
              "<table border=\"1\" class=\"dataframe\">\n",
              "  <thead>\n",
              "    <tr style=\"text-align: right;\">\n",
              "      <th></th>\n",
              "      <th>crim</th>\n",
              "      <th>zn</th>\n",
              "      <th>indus</th>\n",
              "      <th>nox</th>\n",
              "      <th>rm</th>\n",
              "      <th>age</th>\n",
              "      <th>dis</th>\n",
              "      <th>rad</th>\n",
              "      <th>tax</th>\n",
              "      <th>ptratio</th>\n",
              "      <th>b</th>\n",
              "      <th>lstat</th>\n",
              "      <th>medv</th>\n",
              "    </tr>\n",
              "  </thead>\n",
              "  <tbody>\n",
              "    <tr>\n",
              "      <th>crim</th>\n",
              "      <td>1.000000</td>\n",
              "      <td>-0.200469</td>\n",
              "      <td>0.406583</td>\n",
              "      <td>0.420972</td>\n",
              "      <td>-0.219247</td>\n",
              "      <td>0.352734</td>\n",
              "      <td>-0.379670</td>\n",
              "      <td>0.625505</td>\n",
              "      <td>0.582764</td>\n",
              "      <td>0.289946</td>\n",
              "      <td>-0.385064</td>\n",
              "      <td>0.455621</td>\n",
              "      <td>-0.388305</td>\n",
              "    </tr>\n",
              "    <tr>\n",
              "      <th>zn</th>\n",
              "      <td>-0.200469</td>\n",
              "      <td>1.000000</td>\n",
              "      <td>-0.533828</td>\n",
              "      <td>-0.516604</td>\n",
              "      <td>0.311991</td>\n",
              "      <td>-0.569537</td>\n",
              "      <td>0.664408</td>\n",
              "      <td>-0.311948</td>\n",
              "      <td>-0.314563</td>\n",
              "      <td>-0.391679</td>\n",
              "      <td>0.175520</td>\n",
              "      <td>-0.412995</td>\n",
              "      <td>0.360445</td>\n",
              "    </tr>\n",
              "    <tr>\n",
              "      <th>indus</th>\n",
              "      <td>0.406583</td>\n",
              "      <td>-0.533828</td>\n",
              "      <td>1.000000</td>\n",
              "      <td>0.763651</td>\n",
              "      <td>-0.391676</td>\n",
              "      <td>0.644779</td>\n",
              "      <td>-0.708027</td>\n",
              "      <td>0.595129</td>\n",
              "      <td>0.720760</td>\n",
              "      <td>0.383248</td>\n",
              "      <td>-0.356977</td>\n",
              "      <td>0.603800</td>\n",
              "      <td>-0.483725</td>\n",
              "    </tr>\n",
              "    <tr>\n",
              "      <th>nox</th>\n",
              "      <td>0.420972</td>\n",
              "      <td>-0.516604</td>\n",
              "      <td>0.763651</td>\n",
              "      <td>1.000000</td>\n",
              "      <td>-0.302188</td>\n",
              "      <td>0.731470</td>\n",
              "      <td>-0.769230</td>\n",
              "      <td>0.611441</td>\n",
              "      <td>0.668023</td>\n",
              "      <td>0.188933</td>\n",
              "      <td>-0.380051</td>\n",
              "      <td>0.590879</td>\n",
              "      <td>-0.427321</td>\n",
              "    </tr>\n",
              "    <tr>\n",
              "      <th>rm</th>\n",
              "      <td>-0.219247</td>\n",
              "      <td>0.311991</td>\n",
              "      <td>-0.391676</td>\n",
              "      <td>-0.302188</td>\n",
              "      <td>1.000000</td>\n",
              "      <td>-0.240265</td>\n",
              "      <td>0.205246</td>\n",
              "      <td>-0.209847</td>\n",
              "      <td>-0.292048</td>\n",
              "      <td>-0.355501</td>\n",
              "      <td>0.128069</td>\n",
              "      <td>-0.613808</td>\n",
              "      <td>0.695360</td>\n",
              "    </tr>\n",
              "    <tr>\n",
              "      <th>age</th>\n",
              "      <td>0.352734</td>\n",
              "      <td>-0.569537</td>\n",
              "      <td>0.644779</td>\n",
              "      <td>0.731470</td>\n",
              "      <td>-0.240265</td>\n",
              "      <td>1.000000</td>\n",
              "      <td>-0.747881</td>\n",
              "      <td>0.456022</td>\n",
              "      <td>0.506456</td>\n",
              "      <td>0.261515</td>\n",
              "      <td>-0.273534</td>\n",
              "      <td>0.602339</td>\n",
              "      <td>-0.376955</td>\n",
              "    </tr>\n",
              "    <tr>\n",
              "      <th>dis</th>\n",
              "      <td>-0.379670</td>\n",
              "      <td>0.664408</td>\n",
              "      <td>-0.708027</td>\n",
              "      <td>-0.769230</td>\n",
              "      <td>0.205246</td>\n",
              "      <td>-0.747881</td>\n",
              "      <td>1.000000</td>\n",
              "      <td>-0.494588</td>\n",
              "      <td>-0.534432</td>\n",
              "      <td>-0.232471</td>\n",
              "      <td>0.291512</td>\n",
              "      <td>-0.496996</td>\n",
              "      <td>0.249929</td>\n",
              "    </tr>\n",
              "    <tr>\n",
              "      <th>rad</th>\n",
              "      <td>0.625505</td>\n",
              "      <td>-0.311948</td>\n",
              "      <td>0.595129</td>\n",
              "      <td>0.611441</td>\n",
              "      <td>-0.209847</td>\n",
              "      <td>0.456022</td>\n",
              "      <td>-0.494588</td>\n",
              "      <td>1.000000</td>\n",
              "      <td>0.910228</td>\n",
              "      <td>0.464741</td>\n",
              "      <td>-0.444413</td>\n",
              "      <td>0.488676</td>\n",
              "      <td>-0.381626</td>\n",
              "    </tr>\n",
              "    <tr>\n",
              "      <th>tax</th>\n",
              "      <td>0.582764</td>\n",
              "      <td>-0.314563</td>\n",
              "      <td>0.720760</td>\n",
              "      <td>0.668023</td>\n",
              "      <td>-0.292048</td>\n",
              "      <td>0.506456</td>\n",
              "      <td>-0.534432</td>\n",
              "      <td>0.910228</td>\n",
              "      <td>1.000000</td>\n",
              "      <td>0.460853</td>\n",
              "      <td>-0.441808</td>\n",
              "      <td>0.543993</td>\n",
              "      <td>-0.468536</td>\n",
              "    </tr>\n",
              "    <tr>\n",
              "      <th>ptratio</th>\n",
              "      <td>0.289946</td>\n",
              "      <td>-0.391679</td>\n",
              "      <td>0.383248</td>\n",
              "      <td>0.188933</td>\n",
              "      <td>-0.355501</td>\n",
              "      <td>0.261515</td>\n",
              "      <td>-0.232471</td>\n",
              "      <td>0.464741</td>\n",
              "      <td>0.460853</td>\n",
              "      <td>1.000000</td>\n",
              "      <td>-0.177383</td>\n",
              "      <td>0.374044</td>\n",
              "      <td>-0.507787</td>\n",
              "    </tr>\n",
              "    <tr>\n",
              "      <th>b</th>\n",
              "      <td>-0.385064</td>\n",
              "      <td>0.175520</td>\n",
              "      <td>-0.356977</td>\n",
              "      <td>-0.380051</td>\n",
              "      <td>0.128069</td>\n",
              "      <td>-0.273534</td>\n",
              "      <td>0.291512</td>\n",
              "      <td>-0.444413</td>\n",
              "      <td>-0.441808</td>\n",
              "      <td>-0.177383</td>\n",
              "      <td>1.000000</td>\n",
              "      <td>-0.366087</td>\n",
              "      <td>0.333461</td>\n",
              "    </tr>\n",
              "    <tr>\n",
              "      <th>lstat</th>\n",
              "      <td>0.455621</td>\n",
              "      <td>-0.412995</td>\n",
              "      <td>0.603800</td>\n",
              "      <td>0.590879</td>\n",
              "      <td>-0.613808</td>\n",
              "      <td>0.602339</td>\n",
              "      <td>-0.496996</td>\n",
              "      <td>0.488676</td>\n",
              "      <td>0.543993</td>\n",
              "      <td>0.374044</td>\n",
              "      <td>-0.366087</td>\n",
              "      <td>1.000000</td>\n",
              "      <td>-0.737663</td>\n",
              "    </tr>\n",
              "    <tr>\n",
              "      <th>medv</th>\n",
              "      <td>-0.388305</td>\n",
              "      <td>0.360445</td>\n",
              "      <td>-0.483725</td>\n",
              "      <td>-0.427321</td>\n",
              "      <td>0.695360</td>\n",
              "      <td>-0.376955</td>\n",
              "      <td>0.249929</td>\n",
              "      <td>-0.381626</td>\n",
              "      <td>-0.468536</td>\n",
              "      <td>-0.507787</td>\n",
              "      <td>0.333461</td>\n",
              "      <td>-0.737663</td>\n",
              "      <td>1.000000</td>\n",
              "    </tr>\n",
              "  </tbody>\n",
              "</table>\n",
              "</div>"
            ],
            "text/plain": [
              "             crim        zn     indus  ...         b     lstat      medv\n",
              "crim     1.000000 -0.200469  0.406583  ... -0.385064  0.455621 -0.388305\n",
              "zn      -0.200469  1.000000 -0.533828  ...  0.175520 -0.412995  0.360445\n",
              "indus    0.406583 -0.533828  1.000000  ... -0.356977  0.603800 -0.483725\n",
              "nox      0.420972 -0.516604  0.763651  ... -0.380051  0.590879 -0.427321\n",
              "rm      -0.219247  0.311991 -0.391676  ...  0.128069 -0.613808  0.695360\n",
              "age      0.352734 -0.569537  0.644779  ... -0.273534  0.602339 -0.376955\n",
              "dis     -0.379670  0.664408 -0.708027  ...  0.291512 -0.496996  0.249929\n",
              "rad      0.625505 -0.311948  0.595129  ... -0.444413  0.488676 -0.381626\n",
              "tax      0.582764 -0.314563  0.720760  ... -0.441808  0.543993 -0.468536\n",
              "ptratio  0.289946 -0.391679  0.383248  ... -0.177383  0.374044 -0.507787\n",
              "b       -0.385064  0.175520 -0.356977  ...  1.000000 -0.366087  0.333461\n",
              "lstat    0.455621 -0.412995  0.603800  ... -0.366087  1.000000 -0.737663\n",
              "medv    -0.388305  0.360445 -0.483725  ...  0.333461 -0.737663  1.000000\n",
              "\n",
              "[13 rows x 13 columns]"
            ]
          },
          "metadata": {
            "tags": []
          },
          "execution_count": 114
        }
      ]
    },
    {
      "cell_type": "code",
      "metadata": {
        "id": "2Q70vFjfLTLq",
        "colab": {
          "base_uri": "https://localhost:8080/",
          "height": 398
        },
        "outputId": "fd630534-4fe2-49c9-e027-ce0826d24cbb"
      },
      "source": [
        "plt.figure(figsize=(12,6))\r\n",
        "sns.heatmap(df_corr, annot = True)"
      ],
      "execution_count": 115,
      "outputs": [
        {
          "output_type": "execute_result",
          "data": {
            "text/plain": [
              "<matplotlib.axes._subplots.AxesSubplot at 0x7fc153e619b0>"
            ]
          },
          "metadata": {
            "tags": []
          },
          "execution_count": 115
        },
        {
          "output_type": "display_data",
          "data": {
            "image/png": "[encoded data removed]",
            "text/plain": [
              "<Figure size 864x432 with 2 Axes>"
            ]
          },
          "metadata": {
            "tags": []
          }
        }
      ]
    },
    {
      "cell_type": "code",
      "metadata": {
        "id": "kAru_AqJJ0AR",
        "colab": {
          "base_uri": "https://localhost:8080/",
          "height": 1000
        },
        "outputId": "e97829ef-77eb-4bc4-b97b-ed0767be3c57"
      },
      "source": [
        "df.hist(figsize=(12,12))"
      ],
      "execution_count": 116,
      "outputs": [
        {
          "output_type": "execute_result",
          "data": {
            "text/plain": [
              "array([[<matplotlib.axes._subplots.AxesSubplot object at 0x7fc153d5ca20>,\n",
              "        <matplotlib.axes._subplots.AxesSubplot object at 0x7fc151508128>,\n",
              "        <matplotlib.axes._subplots.AxesSubplot object at 0x7fc1514cb898>,\n",
              "        <matplotlib.axes._subplots.AxesSubplot object at 0x7fc151478fd0>],\n",
              "       [<matplotlib.axes._subplots.AxesSubplot object at 0x7fc1514337b8>,\n",
              "        <matplotlib.axes._subplots.AxesSubplot object at 0x7fc151462f28>,\n",
              "        <matplotlib.axes._subplots.AxesSubplot object at 0x7fc15141b6d8>,\n",
              "        <matplotlib.axes._subplots.AxesSubplot object at 0x7fc1513cde10>],\n",
              "       [<matplotlib.axes._subplots.AxesSubplot object at 0x7fc1513cde80>,\n",
              "        <matplotlib.axes._subplots.AxesSubplot object at 0x7fc151337d68>,\n",
              "        <matplotlib.axes._subplots.AxesSubplot object at 0x7fc1512f1518>,\n",
              "        <matplotlib.axes._subplots.AxesSubplot object at 0x7fc15131fc88>],\n",
              "       [<matplotlib.axes._subplots.AxesSubplot object at 0x7fc1512dc438>,\n",
              "        <matplotlib.axes._subplots.AxesSubplot object at 0x7fc151289ba8>,\n",
              "        <matplotlib.axes._subplots.AxesSubplot object at 0x7fc151246358>,\n",
              "        <matplotlib.axes._subplots.AxesSubplot object at 0x7fc1511f5ac8>]],\n",
              "      dtype=object)"
            ]
          },
          "metadata": {
            "tags": []
          },
          "execution_count": 116
        },
        {
          "output_type": "display_data",
          "data": {
            "image/png": "[encoded data removed]",
            "text/plain": [
              "<Figure size 864x864 with 16 Axes>"
            ]
          },
          "metadata": {
            "tags": []
          }
        }
      ]
    },
    {
      "cell_type": "markdown",
      "metadata": {
        "id": "yfF7-lroJsMW"
      },
      "source": [
        "## Zadanie 1 (8ptk)\r\n",
        "Przeprowadź regresję z użyciem modelu liniowego. Wskaż zmienne dla których wartość parametru liniowego była najwyższa."
      ]
    },
    {
      "cell_type": "code",
      "metadata": {
        "id": "JM3AuJtqJl5Z",
        "colab": {
          "base_uri": "https://localhost:8080/"
        },
        "outputId": "ada820b9-1d95-4054-dede-700b79e888c7"
      },
      "source": [
        "from sklearn import linear_model\r\n",
        "reg = linear_model.LinearRegression()\r\n",
        "reg.fit(x_train_standard, y_train)"
      ],
      "execution_count": 117,
      "outputs": [
        {
          "output_type": "execute_result",
          "data": {
            "text/plain": [
              "LinearRegression(copy_X=True, fit_intercept=True, n_jobs=None, normalize=False)"
            ]
          },
          "metadata": {
            "tags": []
          },
          "execution_count": 117
        }
      ]
    },
    {
      "cell_type": "code",
      "metadata": {
        "id": "_ozBC8hGLlJ7",
        "colab": {
          "base_uri": "https://localhost:8080/"
        },
        "outputId": "339aed04-d3c1-4fb2-cf56-2a4160621914"
      },
      "source": [
        "from heapq import nlargest \r\n",
        "linear_parameters = reg.coef_\r\n",
        "model_features = df_x.columns\r\n",
        "\r\n",
        "coef_dict = {}\r\n",
        "for param, feat in zip(linear_parameters, model_features):\r\n",
        "  coef_dict[feat] = param\r\n",
        "\r\n",
        "highest_coef = nlargest(3, coef_dict, key = coef_dict.get)  \r\n",
        "for val in highest_coef: \r\n",
        "    print(val, \":\", coef_dict.get(val)) "
      ],
      "execution_count": 118,
      "outputs": [
        {
          "output_type": "stream",
          "text": [
            "rm : 3.185256906500559\n",
            "rad : 2.4212971629592888\n",
            "b : 1.2040436849553857\n"
          ],
          "name": "stdout"
        }
      ]
    },
    {
      "cell_type": "code",
      "metadata": {
        "id": "A7FQ47vXNvqy",
        "colab": {
          "base_uri": "https://localhost:8080/"
        },
        "outputId": "aff47674-53d8-4874-8eaa-37ac0dc2fa8d"
      },
      "source": [
        "from sklearn.metrics import r2_score\r\n",
        "y_pred_linear_reg = reg.predict(x_test_standard)\r\n",
        "r_squared_linear_reg = r2_score(y_test, y_pred_linear_reg)\r\n",
        "\r\n",
        "r_squared_linear_reg"
      ],
      "execution_count": 119,
      "outputs": [
        {
          "output_type": "execute_result",
          "data": {
            "text/plain": [
              "0.6374577674817179"
            ]
          },
          "metadata": {
            "tags": []
          },
          "execution_count": 119
        }
      ]
    },
    {
      "cell_type": "markdown",
      "metadata": {
        "id": "g9R5wmptJs8g"
      },
      "source": [
        "## Zadanie 2 (8ptk)\r\n",
        "Przeprowadź regresję z użyciem sieci neuronowej o 3 warstwach (po trzy neurony w każdej warstwie)."
      ]
    },
    {
      "cell_type": "code",
      "metadata": {
        "id": "HyIaVo70OEVW",
        "colab": {
          "base_uri": "https://localhost:8080/"
        },
        "outputId": "edd6d953-6efc-497e-d1b3-3dd57de4ef0b"
      },
      "source": [
        "import keras\r\n",
        "model = keras.Sequential()\r\n",
        "\r\n",
        "model.add(\r\n",
        "    keras.layers.Dense(3, activation = 'relu', input_shape = (x_train_standard[0].shape)))\r\n",
        "model.add(\r\n",
        "    keras.layers.Dense(3, activation = 'relu'))\r\n",
        "model.add(\r\n",
        "    keras.layers.Dense(3, activation = 'relu'))\r\n",
        "model.add(\r\n",
        "    keras.layers.Dense(1, activation='linear', name='output'))\r\n",
        "\r\n",
        "model.compile(\r\n",
        "    optimizer = 'adam',\r\n",
        "    loss='mse', \r\n",
        "    metrics=['mae']\r\n",
        ")\r\n",
        "\r\n",
        "model.summary()"
      ],
      "execution_count": 120,
      "outputs": [
        {
          "output_type": "stream",
          "text": [
            "Model: \"sequential_2\"\n",
            "_________________________________________________________________\n",
            "Layer (type)                 Output Shape              Param #   \n",
            "=================================================================\n",
            "dense_6 (Dense)              (None, 3)                 39        \n",
            "_________________________________________________________________\n",
            "dense_7 (Dense)              (None, 3)                 12        \n",
            "_________________________________________________________________\n",
            "dense_8 (Dense)              (None, 3)                 12        \n",
            "_________________________________________________________________\n",
            "output (Dense)               (None, 1)                 4         \n",
            "=================================================================\n",
            "Total params: 67\n",
            "Trainable params: 67\n",
            "Non-trainable params: 0\n",
            "_________________________________________________________________\n"
          ],
          "name": "stdout"
        }
      ]
    },
    {
      "cell_type": "code",
      "metadata": {
        "id": "c4Vi9nTJkX34",
        "colab": {
          "base_uri": "https://localhost:8080/"
        },
        "outputId": "b599d0a0-6668-4bc7-80ce-ec7624ba621f"
      },
      "source": [
        "history = model.fit(x_train_standard, y_train, epochs=100, validation_split=0.05)"
      ],
      "execution_count": 121,
      "outputs": [
        {
          "output_type": "stream",
          "text": [
            "Epoch 1/100\n",
            "12/12 [==============================] - 1s 35ms/step - loss: 608.0477 - mae: 22.7494 - val_loss: 551.0583 - val_mae: 21.9640\n",
            "Epoch 2/100\n",
            "12/12 [==============================] - 0s 4ms/step - loss: 655.4887 - mae: 23.5516 - val_loss: 548.6184 - val_mae: 21.9115\n",
            "Epoch 3/100\n",
            "12/12 [==============================] - 0s 4ms/step - loss: 632.7419 - mae: 23.1871 - val_loss: 545.8198 - val_mae: 21.8526\n",
            "Epoch 4/100\n",
            "12/12 [==============================] - 0s 3ms/step - loss: 581.9662 - mae: 22.1597 - val_loss: 542.5563 - val_mae: 21.7839\n",
            "Epoch 5/100\n",
            "12/12 [==============================] - 0s 4ms/step - loss: 622.7238 - mae: 22.9887 - val_loss: 538.3959 - val_mae: 21.6948\n",
            "Epoch 6/100\n",
            "12/12 [==============================] - 0s 4ms/step - loss: 567.1051 - mae: 21.9879 - val_loss: 533.4944 - val_mae: 21.5897\n",
            "Epoch 7/100\n",
            "12/12 [==============================] - 0s 3ms/step - loss: 571.6321 - mae: 21.9674 - val_loss: 527.8683 - val_mae: 21.4686\n",
            "Epoch 8/100\n",
            "12/12 [==============================] - 0s 3ms/step - loss: 613.7332 - mae: 22.6153 - val_loss: 521.4240 - val_mae: 21.3288\n",
            "Epoch 9/100\n",
            "12/12 [==============================] - 0s 4ms/step - loss: 565.3466 - mae: 21.8862 - val_loss: 514.3231 - val_mae: 21.1730\n",
            "Epoch 10/100\n",
            "12/12 [==============================] - 0s 4ms/step - loss: 547.8250 - mae: 21.5053 - val_loss: 506.3678 - val_mae: 20.9970\n",
            "Epoch 11/100\n",
            "12/12 [==============================] - 0s 4ms/step - loss: 523.0927 - mae: 21.0847 - val_loss: 497.4947 - val_mae: 20.7986\n",
            "Epoch 12/100\n",
            "12/12 [==============================] - 0s 3ms/step - loss: 516.7943 - mae: 20.9826 - val_loss: 487.8469 - val_mae: 20.5788\n",
            "Epoch 13/100\n",
            "12/12 [==============================] - 0s 3ms/step - loss: 522.8898 - mae: 20.9121 - val_loss: 477.1457 - val_mae: 20.3307\n",
            "Epoch 14/100\n",
            "12/12 [==============================] - 0s 4ms/step - loss: 502.2599 - mae: 20.6308 - val_loss: 465.5150 - val_mae: 20.0556\n",
            "Epoch 15/100\n",
            "12/12 [==============================] - 0s 4ms/step - loss: 490.8554 - mae: 20.3227 - val_loss: 452.8899 - val_mae: 19.7520\n",
            "Epoch 16/100\n",
            "12/12 [==============================] - 0s 4ms/step - loss: 486.4065 - mae: 20.2890 - val_loss: 439.0273 - val_mae: 19.4125\n",
            "Epoch 17/100\n",
            "12/12 [==============================] - 0s 4ms/step - loss: 482.9263 - mae: 19.9770 - val_loss: 424.0892 - val_mae: 19.0380\n",
            "Epoch 18/100\n",
            "12/12 [==============================] - 0s 4ms/step - loss: 433.1098 - mae: 18.7159 - val_loss: 408.4734 - val_mae: 18.6354\n",
            "Epoch 19/100\n",
            "12/12 [==============================] - 0s 4ms/step - loss: 442.5929 - mae: 19.1121 - val_loss: 391.7500 - val_mae: 18.1918\n",
            "Epoch 20/100\n",
            "12/12 [==============================] - 0s 4ms/step - loss: 415.4695 - mae: 18.3088 - val_loss: 374.4817 - val_mae: 17.7194\n",
            "Epoch 21/100\n",
            "12/12 [==============================] - 0s 4ms/step - loss: 399.2545 - mae: 17.8880 - val_loss: 355.9117 - val_mae: 17.1928\n",
            "Epoch 22/100\n",
            "12/12 [==============================] - 0s 4ms/step - loss: 380.5582 - mae: 17.4119 - val_loss: 336.5905 - val_mae: 16.6246\n",
            "Epoch 23/100\n",
            "12/12 [==============================] - 0s 4ms/step - loss: 348.9687 - mae: 16.1438 - val_loss: 316.8956 - val_mae: 16.0223\n",
            "Epoch 24/100\n",
            "12/12 [==============================] - 0s 4ms/step - loss: 328.8536 - mae: 16.0078 - val_loss: 296.4048 - val_mae: 15.3658\n",
            "Epoch 25/100\n",
            "12/12 [==============================] - 0s 4ms/step - loss: 282.2632 - mae: 14.4970 - val_loss: 275.8605 - val_mae: 14.6741\n",
            "Epoch 26/100\n",
            "12/12 [==============================] - 0s 4ms/step - loss: 269.7318 - mae: 14.2797 - val_loss: 254.7679 - val_mae: 13.9239\n",
            "Epoch 27/100\n",
            "12/12 [==============================] - 0s 4ms/step - loss: 256.3431 - mae: 13.6330 - val_loss: 232.9245 - val_mae: 13.1362\n",
            "Epoch 28/100\n",
            "12/12 [==============================] - 0s 4ms/step - loss: 224.4775 - mae: 12.5182 - val_loss: 210.0574 - val_mae: 12.2366\n",
            "Epoch 29/100\n",
            "12/12 [==============================] - 0s 4ms/step - loss: 188.3069 - mae: 11.3943 - val_loss: 183.3628 - val_mae: 11.0414\n",
            "Epoch 30/100\n",
            "12/12 [==============================] - 0s 4ms/step - loss: 183.0929 - mae: 10.8882 - val_loss: 159.1406 - val_mae: 10.0521\n",
            "Epoch 31/100\n",
            "12/12 [==============================] - 0s 20ms/step - loss: 145.2151 - mae: 9.3834 - val_loss: 140.2574 - val_mae: 9.1217\n",
            "Epoch 32/100\n",
            "12/12 [==============================] - 0s 4ms/step - loss: 126.1493 - mae: 8.7734 - val_loss: 126.7763 - val_mae: 8.4411\n",
            "Epoch 33/100\n",
            "12/12 [==============================] - 0s 4ms/step - loss: 113.9889 - mae: 8.2690 - val_loss: 117.4394 - val_mae: 7.8921\n",
            "Epoch 34/100\n",
            "12/12 [==============================] - 0s 4ms/step - loss: 105.4017 - mae: 8.0716 - val_loss: 110.6213 - val_mae: 7.4654\n",
            "Epoch 35/100\n",
            "12/12 [==============================] - 0s 3ms/step - loss: 109.4889 - mae: 7.8402 - val_loss: 105.8258 - val_mae: 7.2205\n",
            "Epoch 36/100\n",
            "12/12 [==============================] - 0s 3ms/step - loss: 94.1664 - mae: 7.6452 - val_loss: 102.2429 - val_mae: 7.0454\n",
            "Epoch 37/100\n",
            "12/12 [==============================] - 0s 3ms/step - loss: 103.2098 - mae: 7.6719 - val_loss: 100.5163 - val_mae: 6.9309\n",
            "Epoch 38/100\n",
            "12/12 [==============================] - 0s 4ms/step - loss: 89.1645 - mae: 7.2816 - val_loss: 98.2978 - val_mae: 6.8183\n",
            "Epoch 39/100\n",
            "12/12 [==============================] - 0s 4ms/step - loss: 80.7344 - mae: 6.9823 - val_loss: 96.1803 - val_mae: 6.7383\n",
            "Epoch 40/100\n",
            "12/12 [==============================] - 0s 4ms/step - loss: 70.6729 - mae: 6.4024 - val_loss: 94.1073 - val_mae: 6.6562\n",
            "Epoch 41/100\n",
            "12/12 [==============================] - 0s 4ms/step - loss: 70.7598 - mae: 6.3877 - val_loss: 92.2915 - val_mae: 6.5837\n",
            "Epoch 42/100\n",
            "12/12 [==============================] - 0s 4ms/step - loss: 65.5084 - mae: 6.1840 - val_loss: 90.4483 - val_mae: 6.5110\n",
            "Epoch 43/100\n",
            "12/12 [==============================] - 0s 4ms/step - loss: 66.5953 - mae: 6.2858 - val_loss: 88.8888 - val_mae: 6.4494\n",
            "Epoch 44/100\n",
            "12/12 [==============================] - 0s 4ms/step - loss: 67.9044 - mae: 6.1726 - val_loss: 88.0763 - val_mae: 6.4362\n",
            "Epoch 45/100\n",
            "12/12 [==============================] - 0s 4ms/step - loss: 66.5039 - mae: 6.1606 - val_loss: 87.2560 - val_mae: 6.4205\n",
            "Epoch 46/100\n",
            "12/12 [==============================] - 0s 4ms/step - loss: 59.0226 - mae: 5.8200 - val_loss: 86.5934 - val_mae: 6.4005\n",
            "Epoch 47/100\n",
            "12/12 [==============================] - 0s 4ms/step - loss: 62.1280 - mae: 5.9901 - val_loss: 86.5512 - val_mae: 6.4057\n",
            "Epoch 48/100\n",
            "12/12 [==============================] - 0s 4ms/step - loss: 51.4384 - mae: 5.3426 - val_loss: 86.1320 - val_mae: 6.3835\n",
            "Epoch 49/100\n",
            "12/12 [==============================] - 0s 4ms/step - loss: 44.7639 - mae: 5.1802 - val_loss: 85.0875 - val_mae: 6.3358\n",
            "Epoch 50/100\n",
            "12/12 [==============================] - 0s 4ms/step - loss: 55.4493 - mae: 5.6273 - val_loss: 84.5407 - val_mae: 6.2988\n",
            "Epoch 51/100\n",
            "12/12 [==============================] - 0s 4ms/step - loss: 48.0017 - mae: 5.1883 - val_loss: 83.7114 - val_mae: 6.2372\n",
            "Epoch 52/100\n",
            "12/12 [==============================] - 0s 4ms/step - loss: 47.3754 - mae: 5.1508 - val_loss: 83.8956 - val_mae: 6.2157\n",
            "Epoch 53/100\n",
            "12/12 [==============================] - 0s 4ms/step - loss: 37.7365 - mae: 4.7207 - val_loss: 82.9661 - val_mae: 6.1551\n",
            "Epoch 54/100\n",
            "12/12 [==============================] - 0s 4ms/step - loss: 35.4958 - mae: 4.5303 - val_loss: 82.1833 - val_mae: 6.0933\n",
            "Epoch 55/100\n",
            "12/12 [==============================] - 0s 4ms/step - loss: 40.1178 - mae: 4.7371 - val_loss: 81.1616 - val_mae: 6.0562\n",
            "Epoch 56/100\n",
            "12/12 [==============================] - 0s 4ms/step - loss: 39.0861 - mae: 4.6568 - val_loss: 80.7607 - val_mae: 6.0448\n",
            "Epoch 57/100\n",
            "12/12 [==============================] - 0s 4ms/step - loss: 39.0556 - mae: 4.6814 - val_loss: 80.2749 - val_mae: 6.0255\n",
            "Epoch 58/100\n",
            "12/12 [==============================] - 0s 4ms/step - loss: 35.0337 - mae: 4.3824 - val_loss: 79.0286 - val_mae: 5.9683\n",
            "Epoch 59/100\n",
            "12/12 [==============================] - 0s 4ms/step - loss: 36.4035 - mae: 4.5658 - val_loss: 78.5775 - val_mae: 5.9503\n",
            "Epoch 60/100\n",
            "12/12 [==============================] - 0s 4ms/step - loss: 30.7061 - mae: 4.2720 - val_loss: 78.2285 - val_mae: 5.9359\n",
            "Epoch 61/100\n",
            "12/12 [==============================] - 0s 4ms/step - loss: 33.4431 - mae: 4.3714 - val_loss: 77.8041 - val_mae: 5.9191\n",
            "Epoch 62/100\n",
            "12/12 [==============================] - 0s 4ms/step - loss: 30.5995 - mae: 4.3300 - val_loss: 77.5061 - val_mae: 5.9046\n",
            "Epoch 63/100\n",
            "12/12 [==============================] - 0s 4ms/step - loss: 30.4629 - mae: 4.2001 - val_loss: 76.5280 - val_mae: 5.8574\n",
            "Epoch 64/100\n",
            "12/12 [==============================] - 0s 4ms/step - loss: 29.5410 - mae: 4.2017 - val_loss: 76.6674 - val_mae: 5.8614\n",
            "Epoch 65/100\n",
            "12/12 [==============================] - 0s 4ms/step - loss: 31.3098 - mae: 4.3133 - val_loss: 75.8055 - val_mae: 5.8158\n",
            "Epoch 66/100\n",
            "12/12 [==============================] - 0s 4ms/step - loss: 26.0160 - mae: 3.8780 - val_loss: 75.5698 - val_mae: 5.8110\n",
            "Epoch 67/100\n",
            "12/12 [==============================] - 0s 4ms/step - loss: 26.8039 - mae: 4.0044 - val_loss: 75.6185 - val_mae: 5.8240\n",
            "Epoch 68/100\n",
            "12/12 [==============================] - 0s 4ms/step - loss: 27.9217 - mae: 4.1097 - val_loss: 74.9871 - val_mae: 5.8076\n",
            "Epoch 69/100\n",
            "12/12 [==============================] - 0s 4ms/step - loss: 24.7228 - mae: 3.9097 - val_loss: 74.6040 - val_mae: 5.7959\n",
            "Epoch 70/100\n",
            "12/12 [==============================] - 0s 4ms/step - loss: 31.3747 - mae: 4.2990 - val_loss: 73.5469 - val_mae: 5.7633\n",
            "Epoch 71/100\n",
            "12/12 [==============================] - 0s 4ms/step - loss: 30.5184 - mae: 4.2698 - val_loss: 73.8101 - val_mae: 5.7841\n",
            "Epoch 72/100\n",
            "12/12 [==============================] - 0s 4ms/step - loss: 28.9140 - mae: 4.1789 - val_loss: 74.0068 - val_mae: 5.7946\n",
            "Epoch 73/100\n",
            "12/12 [==============================] - 0s 4ms/step - loss: 25.8529 - mae: 3.9105 - val_loss: 74.1565 - val_mae: 5.8121\n",
            "Epoch 74/100\n",
            "12/12 [==============================] - 0s 4ms/step - loss: 27.8163 - mae: 3.9441 - val_loss: 74.3876 - val_mae: 5.8312\n",
            "Epoch 75/100\n",
            "12/12 [==============================] - 0s 4ms/step - loss: 23.5492 - mae: 3.7714 - val_loss: 74.7203 - val_mae: 5.8479\n",
            "Epoch 76/100\n",
            "12/12 [==============================] - 0s 4ms/step - loss: 24.1127 - mae: 3.7894 - val_loss: 74.4091 - val_mae: 5.8343\n",
            "Epoch 77/100\n",
            "12/12 [==============================] - 0s 4ms/step - loss: 25.1879 - mae: 3.9166 - val_loss: 74.0474 - val_mae: 5.8230\n",
            "Epoch 78/100\n",
            "12/12 [==============================] - 0s 4ms/step - loss: 24.3896 - mae: 3.7581 - val_loss: 73.3528 - val_mae: 5.7968\n",
            "Epoch 79/100\n",
            "12/12 [==============================] - 0s 4ms/step - loss: 32.5389 - mae: 4.2603 - val_loss: 72.6441 - val_mae: 5.7683\n",
            "Epoch 80/100\n",
            "12/12 [==============================] - 0s 4ms/step - loss: 22.8855 - mae: 3.6969 - val_loss: 72.6299 - val_mae: 5.7729\n",
            "Epoch 81/100\n",
            "12/12 [==============================] - 0s 4ms/step - loss: 24.5227 - mae: 3.8180 - val_loss: 72.7895 - val_mae: 5.7853\n",
            "Epoch 82/100\n",
            "12/12 [==============================] - 0s 4ms/step - loss: 25.4221 - mae: 3.8162 - val_loss: 72.5151 - val_mae: 5.7754\n",
            "Epoch 83/100\n",
            "12/12 [==============================] - 0s 4ms/step - loss: 23.9166 - mae: 3.7573 - val_loss: 72.1221 - val_mae: 5.7655\n",
            "Epoch 84/100\n",
            "12/12 [==============================] - 0s 4ms/step - loss: 25.0683 - mae: 3.7779 - val_loss: 71.8373 - val_mae: 5.7518\n",
            "Epoch 85/100\n",
            "12/12 [==============================] - 0s 4ms/step - loss: 27.4121 - mae: 3.9466 - val_loss: 71.7447 - val_mae: 5.7529\n",
            "Epoch 86/100\n",
            "12/12 [==============================] - 0s 21ms/step - loss: 22.6482 - mae: 3.6464 - val_loss: 72.0545 - val_mae: 5.7680\n",
            "Epoch 87/100\n",
            "12/12 [==============================] - 0s 4ms/step - loss: 22.6799 - mae: 3.6722 - val_loss: 71.6928 - val_mae: 5.7503\n",
            "Epoch 88/100\n",
            "12/12 [==============================] - 0s 4ms/step - loss: 24.7647 - mae: 3.8036 - val_loss: 71.1153 - val_mae: 5.7296\n",
            "Epoch 89/100\n",
            "12/12 [==============================] - 0s 4ms/step - loss: 21.1200 - mae: 3.5518 - val_loss: 70.4178 - val_mae: 5.6942\n",
            "Epoch 90/100\n",
            "12/12 [==============================] - 0s 4ms/step - loss: 23.4674 - mae: 3.6889 - val_loss: 69.8723 - val_mae: 5.6697\n",
            "Epoch 91/100\n",
            "12/12 [==============================] - 0s 4ms/step - loss: 22.1027 - mae: 3.7227 - val_loss: 69.8328 - val_mae: 5.6621\n",
            "Epoch 92/100\n",
            "12/12 [==============================] - 0s 4ms/step - loss: 22.3199 - mae: 3.6350 - val_loss: 69.6031 - val_mae: 5.6545\n",
            "Epoch 93/100\n",
            "12/12 [==============================] - 0s 4ms/step - loss: 22.6759 - mae: 3.7240 - val_loss: 70.0670 - val_mae: 5.6770\n",
            "Epoch 94/100\n",
            "12/12 [==============================] - 0s 4ms/step - loss: 26.8952 - mae: 3.9417 - val_loss: 69.8706 - val_mae: 5.6708\n",
            "Epoch 95/100\n",
            "12/12 [==============================] - 0s 4ms/step - loss: 20.1175 - mae: 3.5049 - val_loss: 69.7671 - val_mae: 5.6640\n",
            "Epoch 96/100\n",
            "12/12 [==============================] - 0s 4ms/step - loss: 22.8542 - mae: 3.6167 - val_loss: 69.7115 - val_mae: 5.6587\n",
            "Epoch 97/100\n",
            "12/12 [==============================] - 0s 4ms/step - loss: 22.0489 - mae: 3.6714 - val_loss: 69.3106 - val_mae: 5.6412\n",
            "Epoch 98/100\n",
            "12/12 [==============================] - 0s 4ms/step - loss: 19.3134 - mae: 3.4666 - val_loss: 68.7926 - val_mae: 5.6197\n",
            "Epoch 99/100\n",
            "12/12 [==============================] - 0s 5ms/step - loss: 21.2315 - mae: 3.6204 - val_loss: 68.4793 - val_mae: 5.6039\n",
            "Epoch 100/100\n",
            "12/12 [==============================] - 0s 4ms/step - loss: 23.3410 - mae: 3.6911 - val_loss: 68.6888 - val_mae: 5.6107\n"
          ],
          "name": "stdout"
        }
      ]
    },
    {
      "cell_type": "code",
      "metadata": {
        "id": "RG15BNDcku0a",
        "colab": {
          "base_uri": "https://localhost:8080/",
          "height": 517
        },
        "outputId": "6f70ca97-9262-45ad-ddb8-72c5c37ff307"
      },
      "source": [
        "from plotly.subplots import make_subplots\r\n",
        "import plotly.graph_objects as go\r\n",
        "fig = go.Figure()\r\n",
        "fig.add_trace(go.Scattergl(y=history.history['loss'],\r\n",
        "                    name='Train'))\r\n",
        "fig.add_trace(go.Scattergl(y=history.history['val_loss'],\r\n",
        "                    name='Valid'))\r\n",
        "fig.update_layout(height=500, width=700,\r\n",
        "                  xaxis_title='Epoch',\r\n",
        "                  yaxis_title='Loss')\r\n",
        "fig.show()"
      ],
      "execution_count": 122,
      "outputs": [
        {
          "output_type": "display_data",
          "data": {
            "text/html": [
              "<html>\n",
              "<head><meta charset=\"utf-8\" /></head>\n",
              "<body>\n",
              "    <div>\n",
              "            <script src=\"https://cdnjs.cloudflare.com/ajax/libs/mathjax/2.7.5/MathJax.js?config=TeX-AMS-MML_SVG\"></script><script type=\"text/javascript\">if (window.MathJax) {MathJax.Hub.Config({SVG: {font: \"STIX-Web\"}});}</script>\n",
              "                <script type=\"text/javascript\">window.PlotlyConfig = {MathJaxConfig: 'local'};</script>\n",
              "        <script src=\"https://cdn.plot.ly/plotly-latest.min.js\"></script>    \n",
              "            <div id=\"4527568b-b66d-40de-8c33-3af0613dcdf3\" class=\"plotly-graph-div\" style=\"height:500px; width:700px;\"></div>\n",
              "            <script type=\"text/javascript\">\n",
              "                \n",
              "                    window.PLOTLYENV=window.PLOTLYENV || {};\n",
              "                    \n",
              "                if (document.getElementById(\"4527568b-b66d-40de-8c33-3af0613dcdf3\")) {\n",
              "                    Plotly.newPlot(\n",
              "                        '4527568b-b66d-40de-8c33-3af0613dcdf3',\n",
              "                        [{\"name\": \"Train\", \"type\": \"scattergl\", \"y\": [611.5542602539062, 609.0015869140625, 605.9888305664062, 602.4066162109375, 597.8705444335938, 592.0023193359375, 585.33203125, 578.0338134765625, 569.558837890625, 560.057373046875, 549.6202392578125, 538.15869140625, 525.6480102539062, 511.80914306640625, 496.84515380859375, 480.7044677734375, 463.5658874511719, 444.70928955078125, 425.4958190917969, 404.4862976074219, 383.848388671875, 361.7051696777344, 338.5834045410156, 316.09857177734375, 292.6640930175781, 269.31854248046875, 245.6637420654297, 221.8468780517578, 195.4490509033203, 166.6797637939453, 142.43185424804688, 125.09954071044922, 112.94407653808594, 104.17495727539062, 97.90513610839844, 92.42863464355469, 87.89199829101562, 83.54093170166016, 79.50093841552734, 75.90741729736328, 72.46925354003906, 69.0864486694336, 66.20536804199219, 63.156314849853516, 60.33892822265625, 57.61070251464844, 55.07157516479492, 52.62778854370117, 50.44801330566406, 48.40468215942383, 46.203590393066406, 44.291725158691406, 42.43120193481445, 40.84364700317383, 39.320892333984375, 37.89066696166992, 36.704925537109375, 35.51176834106445, 34.49799728393555, 33.508480072021484, 32.68572235107422, 31.93031883239746, 31.266284942626953, 30.603038787841797, 30.07882308959961, 29.508148193359375, 29.079755783081055, 28.617259979248047, 28.18404197692871, 27.818204879760742, 27.427324295043945, 27.051191329956055, 26.636945724487305, 26.384521484375, 26.042570114135742, 25.816089630126953, 25.550260543823242, 25.31945037841797, 25.123292922973633, 24.89047622680664, 24.6617374420166, 24.462100982666016, 24.28403091430664, 24.088211059570312, 23.937437057495117, 23.75336456298828, 23.57994270324707, 23.450439453125, 23.251535415649414, 23.170270919799805, 23.02628517150879, 22.85199737548828, 22.738338470458984, 22.617326736450195, 22.50237274169922, 22.39032745361328, 22.27318572998047, 22.13055992126465, 22.04458999633789, 21.906505584716797]}, {\"name\": \"Valid\", \"type\": \"scattergl\", \"y\": [551.0582885742188, 548.618408203125, 545.81982421875, 542.5562744140625, 538.3958740234375, 533.494384765625, 527.8682861328125, 521.4240112304688, 514.3231201171875, 506.3677978515625, 497.4947204589844, 487.8468933105469, 477.1456604003906, 465.5150451660156, 452.889892578125, 439.0272521972656, 424.0892028808594, 408.4734191894531, 391.7499694824219, 374.481689453125, 355.9117431640625, 336.5904846191406, 316.8956298828125, 296.4048156738281, 275.8605041503906, 254.76788330078125, 232.92449951171875, 210.0574188232422, 183.36279296875, 159.14056396484375, 140.2574462890625, 126.77625274658203, 117.4394302368164, 110.62126159667969, 105.82584381103516, 102.24290466308594, 100.51626586914062, 98.2977523803711, 96.1802749633789, 94.10725402832031, 92.29145050048828, 90.44830322265625, 88.88883972167969, 88.0763168334961, 87.2559814453125, 86.59342956542969, 86.55123138427734, 86.13203430175781, 85.08749389648438, 84.54073333740234, 83.71142578125, 83.89563751220703, 82.9660873413086, 82.1832504272461, 81.16158294677734, 80.7607192993164, 80.27489471435547, 79.02855682373047, 78.5774917602539, 78.22846221923828, 77.80412292480469, 77.5060806274414, 76.52798461914062, 76.66742706298828, 75.80553436279297, 75.5698013305664, 75.6185302734375, 74.98714447021484, 74.6040267944336, 73.54685974121094, 73.81013488769531, 74.00677490234375, 74.15650939941406, 74.38758850097656, 74.72027587890625, 74.40909576416016, 74.0473861694336, 73.35277557373047, 72.64414978027344, 72.62989807128906, 72.7894515991211, 72.5151138305664, 72.12208557128906, 71.83734130859375, 71.74466705322266, 72.05449676513672, 71.69278717041016, 71.11529541015625, 70.41783142089844, 69.87230682373047, 69.83282470703125, 69.60307312011719, 70.0669937133789, 69.8706283569336, 69.76705169677734, 69.7115478515625, 69.31061553955078, 68.79264831542969, 68.47930145263672, 68.68880462646484]}],\n",
              "                        {\"height\": 500, \"template\": {\"data\": {\"bar\": [{\"error_x\": {\"color\": \"#2a3f5f\"}, \"error_y\": {\"color\": \"#2a3f5f\"}, \"marker\": {\"line\": {\"color\": \"#E5ECF6\", \"width\": 0.5}}, \"type\": \"bar\"}], \"barpolar\": [{\"marker\": {\"line\": {\"color\": \"#E5ECF6\", \"width\": 0.5}}, \"type\": \"barpolar\"}], \"carpet\": [{\"aaxis\": {\"endlinecolor\": \"#2a3f5f\", \"gridcolor\": \"white\", \"linecolor\": \"white\", \"minorgridcolor\": \"white\", \"startlinecolor\": \"#2a3f5f\"}, \"baxis\": {\"endlinecolor\": \"#2a3f5f\", \"gridcolor\": \"white\", \"linecolor\": \"white\", \"minorgridcolor\": \"white\", \"startlinecolor\": \"#2a3f5f\"}, \"type\": \"carpet\"}], \"choropleth\": [{\"colorbar\": {\"outlinewidth\": 0, \"ticks\": \"\"}, \"type\": \"choropleth\"}], \"contour\": [{\"colorbar\": {\"outlinewidth\": 0, \"ticks\": \"\"}, \"colorscale\": [[0.0, \"#0d0887\"], [0.1111111111111111, \"#46039f\"], [0.2222222222222222, \"#7201a8\"], [0.3333333333333333, \"#9c179e\"], [0.4444444444444444, \"#bd3786\"], [0.5555555555555556, \"#d8576b\"], [0.6666666666666666, \"#ed7953\"], [0.7777777777777778, \"#fb9f3a\"], [0.8888888888888888, \"#fdca26\"], [1.0, \"#f0f921\"]], \"type\": \"contour\"}], \"contourcarpet\": [{\"colorbar\": {\"outlinewidth\": 0, \"ticks\": \"\"}, \"type\": \"contourcarpet\"}], \"heatmap\": [{\"colorbar\": {\"outlinewidth\": 0, \"ticks\": \"\"}, \"colorscale\": [[0.0, \"#0d0887\"], [0.1111111111111111, \"#46039f\"], [0.2222222222222222, \"#7201a8\"], [0.3333333333333333, \"#9c179e\"], [0.4444444444444444, \"#bd3786\"], [0.5555555555555556, \"#d8576b\"], [0.6666666666666666, \"#ed7953\"], [0.7777777777777778, \"#fb9f3a\"], [0.8888888888888888, \"#fdca26\"], [1.0, \"#f0f921\"]], \"type\": \"heatmap\"}], \"heatmapgl\": [{\"colorbar\": {\"outlinewidth\": 0, \"ticks\": \"\"}, \"colorscale\": [[0.0, \"#0d0887\"], [0.1111111111111111, \"#46039f\"], [0.2222222222222222, \"#7201a8\"], [0.3333333333333333, \"#9c179e\"], [0.4444444444444444, \"#bd3786\"], [0.5555555555555556, \"#d8576b\"], [0.6666666666666666, \"#ed7953\"], [0.7777777777777778, \"#fb9f3a\"], [0.8888888888888888, \"#fdca26\"], [1.0, \"#f0f921\"]], \"type\": \"heatmapgl\"}], \"histogram\": [{\"marker\": {\"colorbar\": {\"outlinewidth\": 0, \"ticks\": \"\"}}, \"type\": \"histogram\"}], \"histogram2d\": [{\"colorbar\": {\"outlinewidth\": 0, \"ticks\": \"\"}, \"colorscale\": [[0.0, \"#0d0887\"], [0.1111111111111111, \"#46039f\"], [0.2222222222222222, \"#7201a8\"], [0.3333333333333333, \"#9c179e\"], [0.4444444444444444, \"#bd3786\"], [0.5555555555555556, \"#d8576b\"], [0.6666666666666666, \"#ed7953\"], [0.7777777777777778, \"#fb9f3a\"], [0.8888888888888888, \"#fdca26\"], [1.0, \"#f0f921\"]], \"type\": \"histogram2d\"}], \"histogram2dcontour\": [{\"colorbar\": {\"outlinewidth\": 0, \"ticks\": \"\"}, \"colorscale\": [[0.0, \"#0d0887\"], [0.1111111111111111, \"#46039f\"], [0.2222222222222222, \"#7201a8\"], [0.3333333333333333, \"#9c179e\"], [0.4444444444444444, \"#bd3786\"], [0.5555555555555556, \"#d8576b\"], [0.6666666666666666, \"#ed7953\"], [0.7777777777777778, \"#fb9f3a\"], [0.8888888888888888, \"#fdca26\"], [1.0, \"#f0f921\"]], \"type\": \"histogram2dcontour\"}], \"mesh3d\": [{\"colorbar\": {\"outlinewidth\": 0, \"ticks\": \"\"}, \"type\": \"mesh3d\"}], \"parcoords\": [{\"line\": {\"colorbar\": {\"outlinewidth\": 0, \"ticks\": \"\"}}, \"type\": \"parcoords\"}], \"pie\": [{\"automargin\": true, \"type\": \"pie\"}], \"scatter\": [{\"marker\": {\"colorbar\": {\"outlinewidth\": 0, \"ticks\": \"\"}}, \"type\": \"scatter\"}], \"scatter3d\": [{\"line\": {\"colorbar\": {\"outlinewidth\": 0, \"ticks\": \"\"}}, \"marker\": {\"colorbar\": {\"outlinewidth\": 0, \"ticks\": \"\"}}, \"type\": \"scatter3d\"}], \"scattercarpet\": [{\"marker\": {\"colorbar\": {\"outlinewidth\": 0, \"ticks\": \"\"}}, \"type\": \"scattercarpet\"}], \"scattergeo\": [{\"marker\": {\"colorbar\": {\"outlinewidth\": 0, \"ticks\": \"\"}}, \"type\": \"scattergeo\"}], \"scattergl\": [{\"marker\": {\"colorbar\": {\"outlinewidth\": 0, \"ticks\": \"\"}}, \"type\": \"scattergl\"}], \"scattermapbox\": [{\"marker\": {\"colorbar\": {\"outlinewidth\": 0, \"ticks\": \"\"}}, \"type\": \"scattermapbox\"}], \"scatterpolar\": [{\"marker\": {\"colorbar\": {\"outlinewidth\": 0, \"ticks\": \"\"}}, \"type\": \"scatterpolar\"}], \"scatterpolargl\": [{\"marker\": {\"colorbar\": {\"outlinewidth\": 0, \"ticks\": \"\"}}, \"type\": \"scatterpolargl\"}], \"scatterternary\": [{\"marker\": {\"colorbar\": {\"outlinewidth\": 0, \"ticks\": \"\"}}, \"type\": \"scatterternary\"}], \"surface\": [{\"colorbar\": {\"outlinewidth\": 0, \"ticks\": \"\"}, \"colorscale\": [[0.0, \"#0d0887\"], [0.1111111111111111, \"#46039f\"], [0.2222222222222222, \"#7201a8\"], [0.3333333333333333, \"#9c179e\"], [0.4444444444444444, \"#bd3786\"], [0.5555555555555556, \"#d8576b\"], [0.6666666666666666, \"#ed7953\"], [0.7777777777777778, \"#fb9f3a\"], [0.8888888888888888, \"#fdca26\"], [1.0, \"#f0f921\"]], \"type\": \"surface\"}], \"table\": [{\"cells\": {\"fill\": {\"color\": \"#EBF0F8\"}, \"line\": {\"color\": \"white\"}}, \"header\": {\"fill\": {\"color\": \"#C8D4E3\"}, \"line\": {\"color\": \"white\"}}, \"type\": \"table\"}]}, \"layout\": {\"annotationdefaults\": {\"arrowcolor\": \"#2a3f5f\", \"arrowhead\": 0, \"arrowwidth\": 1}, \"coloraxis\": {\"colorbar\": {\"outlinewidth\": 0, \"ticks\": \"\"}}, \"colorscale\": {\"diverging\": [[0, \"#8e0152\"], [0.1, \"#c51b7d\"], [0.2, \"#de77ae\"], [0.3, \"#f1b6da\"], [0.4, \"#fde0ef\"], [0.5, \"#f7f7f7\"], [0.6, \"#e6f5d0\"], [0.7, \"#b8e186\"], [0.8, \"#7fbc41\"], [0.9, \"#4d9221\"], [1, \"#276419\"]], \"sequential\": [[0.0, \"#0d0887\"], [0.1111111111111111, \"#46039f\"], [0.2222222222222222, \"#7201a8\"], [0.3333333333333333, \"#9c179e\"], [0.4444444444444444, \"#bd3786\"], [0.5555555555555556, \"#d8576b\"], [0.6666666666666666, \"#ed7953\"], [0.7777777777777778, \"#fb9f3a\"], [0.8888888888888888, \"#fdca26\"], [1.0, \"#f0f921\"]], \"sequentialminus\": [[0.0, \"#0d0887\"], [0.1111111111111111, \"#46039f\"], [0.2222222222222222, \"#7201a8\"], [0.3333333333333333, \"#9c179e\"], [0.4444444444444444, \"#bd3786\"], [0.5555555555555556, \"#d8576b\"], [0.6666666666666666, \"#ed7953\"], [0.7777777777777778, \"#fb9f3a\"], [0.8888888888888888, \"#fdca26\"], [1.0, \"#f0f921\"]]}, \"colorway\": [\"#636efa\", \"#EF553B\", \"#00cc96\", \"#ab63fa\", \"#FFA15A\", \"#19d3f3\", \"#FF6692\", \"#B6E880\", \"#FF97FF\", \"#FECB52\"], \"font\": {\"color\": \"#2a3f5f\"}, \"geo\": {\"bgcolor\": \"white\", \"lakecolor\": \"white\", \"landcolor\": \"#E5ECF6\", \"showlakes\": true, \"showland\": true, \"subunitcolor\": \"white\"}, \"hoverlabel\": {\"align\": \"left\"}, \"hovermode\": \"closest\", \"mapbox\": {\"style\": \"light\"}, \"paper_bgcolor\": \"white\", \"plot_bgcolor\": \"#E5ECF6\", \"polar\": {\"angularaxis\": {\"gridcolor\": \"white\", \"linecolor\": \"white\", \"ticks\": \"\"}, \"bgcolor\": \"#E5ECF6\", \"radialaxis\": {\"gridcolor\": \"white\", \"linecolor\": \"white\", \"ticks\": \"\"}}, \"scene\": {\"xaxis\": {\"backgroundcolor\": \"#E5ECF6\", \"gridcolor\": \"white\", \"gridwidth\": 2, \"linecolor\": \"white\", \"showbackground\": true, \"ticks\": \"\", \"zerolinecolor\": \"white\"}, \"yaxis\": {\"backgroundcolor\": \"#E5ECF6\", \"gridcolor\": \"white\", \"gridwidth\": 2, \"linecolor\": \"white\", \"showbackground\": true, \"ticks\": \"\", \"zerolinecolor\": \"white\"}, \"zaxis\": {\"backgroundcolor\": \"#E5ECF6\", \"gridcolor\": \"white\", \"gridwidth\": 2, \"linecolor\": \"white\", \"showbackground\": true, \"ticks\": \"\", \"zerolinecolor\": \"white\"}}, \"shapedefaults\": {\"line\": {\"color\": \"#2a3f5f\"}}, \"ternary\": {\"aaxis\": {\"gridcolor\": \"white\", \"linecolor\": \"white\", \"ticks\": \"\"}, \"baxis\": {\"gridcolor\": \"white\", \"linecolor\": \"white\", \"ticks\": \"\"}, \"bgcolor\": \"#E5ECF6\", \"caxis\": {\"gridcolor\": \"white\", \"linecolor\": \"white\", \"ticks\": \"\"}}, \"title\": {\"x\": 0.05}, \"xaxis\": {\"automargin\": true, \"gridcolor\": \"white\", \"linecolor\": \"white\", \"ticks\": \"\", \"title\": {\"standoff\": 15}, \"zerolinecolor\": \"white\", \"zerolinewidth\": 2}, \"yaxis\": {\"automargin\": true, \"gridcolor\": \"white\", \"linecolor\": \"white\", \"ticks\": \"\", \"title\": {\"standoff\": 15}, \"zerolinecolor\": \"white\", \"zerolinewidth\": 2}}}, \"width\": 700, \"xaxis\": {\"title\": {\"text\": \"Epoch\"}}, \"yaxis\": {\"title\": {\"text\": \"Loss\"}}},\n",
              "                        {\"responsive\": true}\n",
              "                    ).then(function(){\n",
              "                            \n",
              "var gd = document.getElementById('4527568b-b66d-40de-8c33-3af0613dcdf3');\n",
              "var x = new MutationObserver(function (mutations, observer) {{\n",
              "        var display = window.getComputedStyle(gd).display;\n",
              "        if (!display || display === 'none') {{\n",
              "            console.log([gd, 'removed!']);\n",
              "            Plotly.purge(gd);\n",
              "            observer.disconnect();\n",
              "        }}\n",
              "}});\n",
              "\n",
              "// Listen for the removal of the full notebook cells\n",
              "var notebookContainer = gd.closest('#notebook-container');\n",
              "if (notebookContainer) {{\n",
              "    x.observe(notebookContainer, {childList: true});\n",
              "}}\n",
              "\n",
              "// Listen for the clearing of the current output cell\n",
              "var outputEl = gd.closest('.output');\n",
              "if (outputEl) {{\n",
              "    x.observe(outputEl, {childList: true});\n",
              "}}\n",
              "\n",
              "                        })\n",
              "                };\n",
              "                \n",
              "            </script>\n",
              "        </div>\n",
              "</body>\n",
              "</html>"
            ]
          },
          "metadata": {
            "tags": []
          }
        }
      ]
    },
    {
      "cell_type": "code",
      "metadata": {
        "id": "R2CDRfpFNJlD",
        "colab": {
          "base_uri": "https://localhost:8080/"
        },
        "outputId": "4ff26c05-2065-40ed-fd64-952616a82fa0"
      },
      "source": [
        " model.fit(x_train_standard, y_train, epochs = 100)\r\n"
      ],
      "execution_count": 123,
      "outputs": [
        {
          "output_type": "stream",
          "text": [
            "Epoch 1/100\n",
            "12/12 [==============================] - 0s 2ms/step - loss: 24.1517 - mae: 3.6929\n",
            "Epoch 2/100\n",
            "12/12 [==============================] - 0s 1ms/step - loss: 24.0645 - mae: 3.6915\n",
            "Epoch 3/100\n",
            "12/12 [==============================] - 0s 1ms/step - loss: 23.9114 - mae: 3.6958\n",
            "Epoch 4/100\n",
            "12/12 [==============================] - 0s 1ms/step - loss: 23.7767 - mae: 3.6853\n",
            "Epoch 5/100\n",
            "12/12 [==============================] - 0s 1ms/step - loss: 23.6493 - mae: 3.6749\n",
            "Epoch 6/100\n",
            "12/12 [==============================] - 0s 1ms/step - loss: 23.5426 - mae: 3.6770\n",
            "Epoch 7/100\n",
            "12/12 [==============================] - 0s 1ms/step - loss: 23.4369 - mae: 3.6758\n",
            "Epoch 8/100\n",
            "12/12 [==============================] - 0s 1ms/step - loss: 23.3863 - mae: 3.6603\n",
            "Epoch 9/100\n",
            "12/12 [==============================] - 0s 1ms/step - loss: 23.2399 - mae: 3.6501\n",
            "Epoch 10/100\n",
            "12/12 [==============================] - 0s 1ms/step - loss: 23.1073 - mae: 3.6436\n",
            "Epoch 11/100\n",
            "12/12 [==============================] - 0s 1ms/step - loss: 23.0108 - mae: 3.6355\n",
            "Epoch 12/100\n",
            "12/12 [==============================] - 0s 1ms/step - loss: 22.9355 - mae: 3.6319\n",
            "Epoch 13/100\n",
            "12/12 [==============================] - 0s 1ms/step - loss: 22.8535 - mae: 3.6308\n",
            "Epoch 14/100\n",
            "12/12 [==============================] - 0s 1ms/step - loss: 22.7333 - mae: 3.6164\n",
            "Epoch 15/100\n",
            "12/12 [==============================] - 0s 1ms/step - loss: 22.6614 - mae: 3.6090\n",
            "Epoch 16/100\n",
            "12/12 [==============================] - 0s 1ms/step - loss: 22.5823 - mae: 3.6000\n",
            "Epoch 17/100\n",
            "12/12 [==============================] - 0s 2ms/step - loss: 22.4732 - mae: 3.5879\n",
            "Epoch 18/100\n",
            "12/12 [==============================] - 0s 2ms/step - loss: 22.3772 - mae: 3.5805\n",
            "Epoch 19/100\n",
            "12/12 [==============================] - 0s 1ms/step - loss: 22.2757 - mae: 3.5741\n",
            "Epoch 20/100\n",
            "12/12 [==============================] - 0s 1ms/step - loss: 22.1857 - mae: 3.5677\n",
            "Epoch 21/100\n",
            "12/12 [==============================] - 0s 1ms/step - loss: 22.0982 - mae: 3.5603\n",
            "Epoch 22/100\n",
            "12/12 [==============================] - 0s 2ms/step - loss: 22.0068 - mae: 3.5547\n",
            "Epoch 23/100\n",
            "12/12 [==============================] - 0s 1ms/step - loss: 21.9603 - mae: 3.5580\n",
            "Epoch 24/100\n",
            "12/12 [==============================] - 0s 1ms/step - loss: 21.8625 - mae: 3.5437\n",
            "Epoch 25/100\n",
            "12/12 [==============================] - 0s 1ms/step - loss: 21.7537 - mae: 3.5290\n",
            "Epoch 26/100\n",
            "12/12 [==============================] - 0s 1ms/step - loss: 21.6916 - mae: 3.5246\n",
            "Epoch 27/100\n",
            "12/12 [==============================] - 0s 1ms/step - loss: 21.6237 - mae: 3.5194\n",
            "Epoch 28/100\n",
            "12/12 [==============================] - 0s 1ms/step - loss: 21.5432 - mae: 3.5176\n",
            "Epoch 29/100\n",
            "12/12 [==============================] - 0s 1ms/step - loss: 21.4626 - mae: 3.5112\n",
            "Epoch 30/100\n",
            "12/12 [==============================] - 0s 1ms/step - loss: 21.3800 - mae: 3.4957\n",
            "Epoch 31/100\n",
            "12/12 [==============================] - 0s 1ms/step - loss: 21.3252 - mae: 3.4865\n",
            "Epoch 32/100\n",
            "12/12 [==============================] - 0s 1ms/step - loss: 21.2409 - mae: 3.4820\n",
            "Epoch 33/100\n",
            "12/12 [==============================] - 0s 1ms/step - loss: 21.2018 - mae: 3.4792\n",
            "Epoch 34/100\n",
            "12/12 [==============================] - 0s 1ms/step - loss: 21.1275 - mae: 3.4773\n",
            "Epoch 35/100\n",
            "12/12 [==============================] - 0s 1ms/step - loss: 21.0358 - mae: 3.4719\n",
            "Epoch 36/100\n",
            "12/12 [==============================] - 0s 1ms/step - loss: 20.9636 - mae: 3.4560\n",
            "Epoch 37/100\n",
            "12/12 [==============================] - 0s 1ms/step - loss: 20.8826 - mae: 3.4479\n",
            "Epoch 38/100\n",
            "12/12 [==============================] - 0s 1ms/step - loss: 20.7982 - mae: 3.4388\n",
            "Epoch 39/100\n",
            "12/12 [==============================] - 0s 1ms/step - loss: 20.7329 - mae: 3.4358\n",
            "Epoch 40/100\n",
            "12/12 [==============================] - 0s 1ms/step - loss: 20.6919 - mae: 3.4287\n",
            "Epoch 41/100\n",
            "12/12 [==============================] - 0s 1ms/step - loss: 20.6059 - mae: 3.4232\n",
            "Epoch 42/100\n",
            "12/12 [==============================] - 0s 2ms/step - loss: 20.5288 - mae: 3.4206\n",
            "Epoch 43/100\n",
            "12/12 [==============================] - 0s 1ms/step - loss: 20.4654 - mae: 3.4167\n",
            "Epoch 44/100\n",
            "12/12 [==============================] - 0s 1ms/step - loss: 20.4301 - mae: 3.4118\n",
            "Epoch 45/100\n",
            "12/12 [==============================] - 0s 1ms/step - loss: 20.3420 - mae: 3.4009\n",
            "Epoch 46/100\n",
            "12/12 [==============================] - 0s 1ms/step - loss: 20.2923 - mae: 3.3982\n",
            "Epoch 47/100\n",
            "12/12 [==============================] - 0s 2ms/step - loss: 20.2211 - mae: 3.3957\n",
            "Epoch 48/100\n",
            "12/12 [==============================] - 0s 1ms/step - loss: 20.1425 - mae: 3.3845\n",
            "Epoch 49/100\n",
            "12/12 [==============================] - 0s 1ms/step - loss: 20.1010 - mae: 3.3753\n",
            "Epoch 50/100\n",
            "12/12 [==============================] - 0s 1ms/step - loss: 20.0413 - mae: 3.3707\n",
            "Epoch 51/100\n",
            "12/12 [==============================] - 0s 1ms/step - loss: 19.9838 - mae: 3.3647\n",
            "Epoch 52/100\n",
            "12/12 [==============================] - 0s 1ms/step - loss: 19.9331 - mae: 3.3600\n",
            "Epoch 53/100\n",
            "12/12 [==============================] - 0s 3ms/step - loss: 19.8599 - mae: 3.3582\n",
            "Epoch 54/100\n",
            "12/12 [==============================] - 0s 1ms/step - loss: 19.7926 - mae: 3.3534\n",
            "Epoch 55/100\n",
            "12/12 [==============================] - 0s 2ms/step - loss: 19.7649 - mae: 3.3511\n",
            "Epoch 56/100\n",
            "12/12 [==============================] - 0s 2ms/step - loss: 19.7004 - mae: 3.3385\n",
            "Epoch 57/100\n",
            "12/12 [==============================] - 0s 1ms/step - loss: 19.6403 - mae: 3.3327\n",
            "Epoch 58/100\n",
            "12/12 [==============================] - 0s 1ms/step - loss: 19.5715 - mae: 3.3273\n",
            "Epoch 59/100\n",
            "12/12 [==============================] - 0s 1ms/step - loss: 19.5125 - mae: 3.3194\n",
            "Epoch 60/100\n",
            "12/12 [==============================] - 0s 2ms/step - loss: 19.4667 - mae: 3.3140\n",
            "Epoch 61/100\n",
            "12/12 [==============================] - 0s 1ms/step - loss: 19.3993 - mae: 3.3106\n",
            "Epoch 62/100\n",
            "12/12 [==============================] - 0s 1ms/step - loss: 19.3522 - mae: 3.3109\n",
            "Epoch 63/100\n",
            "12/12 [==============================] - 0s 1ms/step - loss: 19.2878 - mae: 3.3057\n",
            "Epoch 64/100\n",
            "12/12 [==============================] - 0s 1ms/step - loss: 19.2626 - mae: 3.2969\n",
            "Epoch 65/100\n",
            "12/12 [==============================] - 0s 1ms/step - loss: 19.1784 - mae: 3.2923\n",
            "Epoch 66/100\n",
            "12/12 [==============================] - 0s 2ms/step - loss: 19.1369 - mae: 3.2905\n",
            "Epoch 67/100\n",
            "12/12 [==============================] - 0s 2ms/step - loss: 19.0902 - mae: 3.2842\n",
            "Epoch 68/100\n",
            "12/12 [==============================] - 0s 1ms/step - loss: 19.0234 - mae: 3.2763\n",
            "Epoch 69/100\n",
            "12/12 [==============================] - 0s 2ms/step - loss: 18.9798 - mae: 3.2715\n",
            "Epoch 70/100\n",
            "12/12 [==============================] - 0s 1ms/step - loss: 18.9130 - mae: 3.2656\n",
            "Epoch 71/100\n",
            "12/12 [==============================] - 0s 1ms/step - loss: 18.8749 - mae: 3.2604\n",
            "Epoch 72/100\n",
            "12/12 [==============================] - 0s 1ms/step - loss: 18.8367 - mae: 3.2583\n",
            "Epoch 73/100\n",
            "12/12 [==============================] - 0s 2ms/step - loss: 18.7641 - mae: 3.2535\n",
            "Epoch 74/100\n",
            "12/12 [==============================] - 0s 1ms/step - loss: 18.7251 - mae: 3.2477\n",
            "Epoch 75/100\n",
            "12/12 [==============================] - 0s 1ms/step - loss: 18.6504 - mae: 3.2412\n",
            "Epoch 76/100\n",
            "12/12 [==============================] - 0s 1ms/step - loss: 18.6516 - mae: 3.2395\n",
            "Epoch 77/100\n",
            "12/12 [==============================] - 0s 2ms/step - loss: 18.5505 - mae: 3.2312\n",
            "Epoch 78/100\n",
            "12/12 [==============================] - 0s 2ms/step - loss: 18.5045 - mae: 3.2275\n",
            "Epoch 79/100\n",
            "12/12 [==============================] - 0s 1ms/step - loss: 18.4513 - mae: 3.2243\n",
            "Epoch 80/100\n",
            "12/12 [==============================] - 0s 1ms/step - loss: 18.4304 - mae: 3.2269\n",
            "Epoch 81/100\n",
            "12/12 [==============================] - 0s 1ms/step - loss: 18.3549 - mae: 3.2132\n",
            "Epoch 82/100\n",
            "12/12 [==============================] - 0s 2ms/step - loss: 18.3139 - mae: 3.2072\n",
            "Epoch 83/100\n",
            "12/12 [==============================] - 0s 2ms/step - loss: 18.2422 - mae: 3.2003\n",
            "Epoch 84/100\n",
            "12/12 [==============================] - 0s 1ms/step - loss: 18.2091 - mae: 3.2002\n",
            "Epoch 85/100\n",
            "12/12 [==============================] - 0s 1ms/step - loss: 18.1660 - mae: 3.1951\n",
            "Epoch 86/100\n",
            "12/12 [==============================] - 0s 2ms/step - loss: 18.1079 - mae: 3.1903\n",
            "Epoch 87/100\n",
            "12/12 [==============================] - 0s 1ms/step - loss: 18.1135 - mae: 3.1926\n",
            "Epoch 88/100\n",
            "12/12 [==============================] - 0s 2ms/step - loss: 18.0006 - mae: 3.1843\n",
            "Epoch 89/100\n",
            "12/12 [==============================] - 0s 1ms/step - loss: 18.0024 - mae: 3.1813\n",
            "Epoch 90/100\n",
            "12/12 [==============================] - 0s 1ms/step - loss: 17.9351 - mae: 3.1751\n",
            "Epoch 91/100\n",
            "12/12 [==============================] - 0s 1ms/step - loss: 17.8758 - mae: 3.1632\n",
            "Epoch 92/100\n",
            "12/12 [==============================] - 0s 1ms/step - loss: 17.8302 - mae: 3.1582\n",
            "Epoch 93/100\n",
            "12/12 [==============================] - 0s 2ms/step - loss: 17.7872 - mae: 3.1547\n",
            "Epoch 94/100\n",
            "12/12 [==============================] - 0s 1ms/step - loss: 17.7421 - mae: 3.1536\n",
            "Epoch 95/100\n",
            "12/12 [==============================] - 0s 2ms/step - loss: 17.7364 - mae: 3.1462\n",
            "Epoch 96/100\n",
            "12/12 [==============================] - 0s 1ms/step - loss: 17.6602 - mae: 3.1401\n",
            "Epoch 97/100\n",
            "12/12 [==============================] - 0s 1ms/step - loss: 17.6109 - mae: 3.1414\n",
            "Epoch 98/100\n",
            "12/12 [==============================] - 0s 1ms/step - loss: 17.5960 - mae: 3.1469\n",
            "Epoch 99/100\n",
            "12/12 [==============================] - 0s 1ms/step - loss: 17.5250 - mae: 3.1398\n",
            "Epoch 100/100\n",
            "12/12 [==============================] - 0s 1ms/step - loss: 17.5381 - mae: 3.1294\n"
          ],
          "name": "stdout"
        },
        {
          "output_type": "execute_result",
          "data": {
            "text/plain": [
              "<tensorflow.python.keras.callbacks.History at 0x7fc153e956d8>"
            ]
          },
          "metadata": {
            "tags": []
          },
          "execution_count": 123
        }
      ]
    },
    {
      "cell_type": "code",
      "metadata": {
        "id": "DzCxp162X9Od"
      },
      "source": [
        "y_pred_neural = model.predict(x_test_standard)"
      ],
      "execution_count": 124,
      "outputs": []
    },
    {
      "cell_type": "code",
      "metadata": {
        "id": "TnSgOdAvYRm_",
        "colab": {
          "base_uri": "https://localhost:8080/"
        },
        "outputId": "e0d6eb78-df7f-4302-f801-861ae6a45072"
      },
      "source": [
        "r_squared_nn = r2_score(y_test, y_pred_neural)\r\n",
        "r_squared_nn"
      ],
      "execution_count": 125,
      "outputs": [
        {
          "output_type": "execute_result",
          "data": {
            "text/plain": [
              "0.6763803408147124"
            ]
          },
          "metadata": {
            "tags": []
          },
          "execution_count": 125
        }
      ]
    },
    {
      "cell_type": "code",
      "metadata": {
        "id": "ZbfxMF9HYgUp",
        "colab": {
          "base_uri": "https://localhost:8080/"
        },
        "outputId": "126369cb-9bc2-496f-8c06-1941676912ee"
      },
      "source": [
        "mse_nn, mae_nn = model.evaluate(x_test_standard, y_test)\r\n",
        "print('mean squared error on test data: ', mse_nn)\r\n",
        "print('mean absolute error on test data: ', mae_nn)"
      ],
      "execution_count": 126,
      "outputs": [
        {
          "output_type": "stream",
          "text": [
            "4/4 [==============================] - 0s 2ms/step - loss: 22.6622 - mae: 3.6080\n",
            "mean squared error on test data:  22.662158966064453\n",
            "mean absolute error on test data:  3.607973575592041\n"
          ],
          "name": "stdout"
        }
      ]
    },
    {
      "cell_type": "markdown",
      "metadata": {
        "id": "HSEwMIHiJx_-"
      },
      "source": [
        "## Zadanie 3 (8ptk)\r\n",
        "Porównaj obydwa modele z użyciem współczynnika R kwadrat.\r\n"
      ]
    },
    {
      "cell_type": "code",
      "metadata": {
        "id": "02VuvTioZwZj",
        "colab": {
          "base_uri": "https://localhost:8080/"
        },
        "outputId": "6644e2c1-664c-41da-f516-198705b1b233"
      },
      "source": [
        "print(\"R^2 for linear regression is:  {}\".format(r_squared_linear_reg))\n",
        "print(\"R^2 for neural network is:     {}\".format(r_squared_nn))"
      ],
      "execution_count": 127,
      "outputs": [
        {
          "output_type": "stream",
          "text": [
            "R^2 for linear regression is:  0.6374577674817179\n",
            "R^2 for neural network is:     0.6763803408147124\n"
          ],
          "name": "stdout"
        }
      ]
    },
    {
      "cell_type": "markdown",
      "metadata": {
        "id": "uGUQ8B-YJ2d1"
      },
      "source": [
        "## Zadanie 1 (7ptk)\r\n",
        "Stwórz wykres rozrzutu reprezentujący relację pomiędzy kolumnami medv i crim. Nałóż na ten wykres linię trendu.\r\n"
      ]
    },
    {
      "cell_type": "code",
      "metadata": {
        "colab": {
          "base_uri": "https://localhost:8080/",
          "height": 517
        },
        "id": "nssXrfrUsrjI",
        "outputId": "dcccf1ff-dccb-4829-d578-d1221b7ca26e"
      },
      "source": [
        "x = df.medv\n",
        "y = df.crim\n",
        "plt.scatter(x,y)\n",
        "plt.gca().update(dict(title='', xlabel='medv', ylabel='b'))\n",
        "z = np.polyfit(x, y, 1)\n",
        "p = np.poly1d(z)\n",
        "plt.plot(x,p(x),\"r--\")\n",
        "plt.show()"
      ],
      "execution_count": 128,
      "outputs": [
        {
          "output_type": "display_data",
          "data": {
            "image/png": "[encoded data removed]",
            "text/plain": [
              "<Figure size 842.4x595.44 with 1 Axes>"
            ]
          },
          "metadata": {
            "tags": []
          }
        }
      ]
    },
    {
      "cell_type": "markdown",
      "metadata": {
        "id": "vneipuT9J5HS"
      },
      "source": [
        "## Zadanie 2 (15ptk)\r\n",
        "Stwórz Dashboard, który będzie zawierał:\r\n",
        "*\tWykres słupkowy dla parametrów z modelu liniowego\r\n",
        "*\tHistogram dla wybranej kolumny danych\r\n",
        "*\tWykres rozrzutu dla dowolnej pary kolumn\r\n"
      ]
    },
    {
      "cell_type": "code",
      "metadata": {
        "colab": {
          "base_uri": "https://localhost:8080/",
          "height": 516
        },
        "id": "3XIlHdfk3SpE",
        "outputId": "c35e6c96-3a63-445a-fc73-5a1fae3cb946"
      },
      "source": [
        "plt.bar(range(len(coef_dict)), list(coef_dict.values()), align='center')\n",
        "plt.xticks(range(len(coef_dict)), list(coef_dict.keys()))\n",
        "plt.title(\"linear regression model parameters\")\n",
        "plt.show()"
      ],
      "execution_count": 129,
      "outputs": [
        {
          "output_type": "display_data",
          "data": {
            "image/png": "[encoded data removed]",
            "text/plain": [
              "<Figure size 842.4x595.44 with 1 Axes>"
            ]
          },
          "metadata": {
            "tags": []
          }
        }
      ]
    },
    {
      "cell_type": "code",
      "metadata": {
        "colab": {
          "base_uri": "https://localhost:8080/",
          "height": 516
        },
        "id": "Sn69--C04208",
        "outputId": "7306d060-4b2c-4836-f8f7-eecfda60edd5"
      },
      "source": [
        "def show_hist(i):\n",
        "  plt.hist(df[df.columns[i]], bins=30)\n",
        "  plt.title(df.columns[i])\n",
        "  plt.show()\n",
        "\n",
        "show_hist(3)"
      ],
      "execution_count": 130,
      "outputs": [
        {
          "output_type": "display_data",
          "data": {
            "image/png": "[encoded data removed]",
            "text/plain": [
              "<Figure size 842.4x595.44 with 1 Axes>"
            ]
          },
          "metadata": {
            "tags": []
          }
        }
      ]
    },
    {
      "cell_type": "code",
      "metadata": {
        "colab": {
          "base_uri": "https://localhost:8080/",
          "height": 516
        },
        "id": "zfNnzObE67UJ",
        "outputId": "3d40b13a-edfd-4f2d-f57a-de4f87b381a0"
      },
      "source": [
        "def show_scatter(df, x, y):\n",
        "  df = df\n",
        "  x_col = df.columns[x]\n",
        "  y_col = df.columns[y]  \n",
        "  x = df[x_col]\n",
        "  y = df[y_col]\n",
        "  plt.scatter(x,y)\n",
        "  plt.gca().update(dict(title=\"{} = f({})\".format(y_col, x_col)))\n",
        "  plt.show()\n",
        "\n",
        "show_scatter(df, 1, 2)"
      ],
      "execution_count": 131,
      "outputs": [
        {
          "output_type": "display_data",
          "data": {
            "image/png": "[encoded data removed]",
            "text/plain": [
              "<Figure size 842.4x595.44 with 1 Axes>"
            ]
          },
          "metadata": {
            "tags": []
          }
        }
      ]
    }
  ]
}