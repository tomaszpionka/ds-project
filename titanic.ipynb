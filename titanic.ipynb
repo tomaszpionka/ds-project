{
  "nbformat": 4,
  "nbformat_minor": 0,
  "metadata": {
    "colab": {
      "name": "titanic.ipynb",
      "provenance": [],
      "collapsed_sections": [],
      "authorship_tag": "ABX9TyOpHtgxP54G/rtBTY6CKxEN",
      "include_colab_link": true
    },
    "kernelspec": {
      "name": "python3",
      "display_name": "Python 3"
    }
  },
  "cells": [
    {
      "cell_type": "markdown",
      "metadata": {
        "id": "view-in-github",
        "colab_type": "text"
      },
      "source": [
        "<a href=\"https://colab.research.google.com/github/tomaszpionka/ds-project/blob/main/titanic.ipynb\" target=\"_parent\"><img src=\"https://colab.research.google.com/assets/colab-badge.svg\" alt=\"Open In Colab\"/></a>"
      ]
    },
    {
      "cell_type": "code",
      "metadata": {
        "id": "nZg3yTqt8yAs",
        "outputId": "82ad7132-a0e0-41b7-ae2e-d75ca1f92004",
        "colab": {
          "base_uri": "https://localhost:8080/"
        }
      },
      "source": [
        "import pandas as pd\n",
        "import numpy as np\n",
        "import sklearn\n",
        "\n",
        "test = pd.read_csv(\"https://raw.githubusercontent.com/ashishpatel26/Titanic-Machine-Learning-from-Disaster/master/input/test.csv\")\n",
        "train = pd.read_csv(\"https://raw.githubusercontent.com/ashishpatel26/Titanic-Machine-Learning-from-Disaster/master/input/train.csv\")\n",
        "bollocks = pd.read_csv(\"https://raw.githubusercontent.com/ashishpatel26/Titanic-Machine-Learning-from-Disaster/master/input/Submissionm_Titanic.csv\")\n",
        "\n",
        "test.info()\n",
        "# train.info()\n",
        "# check text data in test and training dataset, if yes convert them into numeric types\n",
        "# check for unique values\n",
        "# print(train['Ticket'].value_counts())\n",
        "\n",
        "# Pearsons correlation\n",
        "train.corr()\n",
        "print('\\n')\n",
        "# list all columns that are strings and check unique values in each\n",
        "# 'Name' 'Sex' 'Ticket' 'Cabin' 'Embarked'\n",
        "\n",
        "# for columnName in test:\n",
        "#    if (columnName in ['Name', 'Sex', 'Ticket' ,'Cabin','Embarked']):\n",
        "#       print(test[columnName].value_counts())\n",
        "#       print('\\n')\n",
        "\n",
        "# assign 1 to male, 0 to female\n",
        "train['Sex'] = train['Sex'].apply(lambda x : 1 if x == 'male' else 0)\n",
        "# lambda x: x*10 if x<2 else (x**2 if x<4 else x+10)\n",
        "train.drop(['Name','Ticket','Cabin','Embarked'], axis=1, inplace=True)\n",
        "train['Age'].fillna(value=train['Age'].mean(), inplace=True)\n",
        "train.info()"
      ],
      "execution_count": 67,
      "outputs": [
        {
          "output_type": "stream",
          "text": [
            "<class 'pandas.core.frame.DataFrame'>\n",
            "RangeIndex: 418 entries, 0 to 417\n",
            "Data columns (total 11 columns):\n",
            " #   Column       Non-Null Count  Dtype  \n",
            "---  ------       --------------  -----  \n",
            " 0   PassengerId  418 non-null    int64  \n",
            " 1   Pclass       418 non-null    int64  \n",
            " 2   Name         418 non-null    object \n",
            " 3   Sex          418 non-null    object \n",
            " 4   Age          332 non-null    float64\n",
            " 5   SibSp        418 non-null    int64  \n",
            " 6   Parch        418 non-null    int64  \n",
            " 7   Ticket       418 non-null    object \n",
            " 8   Fare         417 non-null    float64\n",
            " 9   Cabin        91 non-null     object \n",
            " 10  Embarked     418 non-null    object \n",
            "dtypes: float64(2), int64(4), object(5)\n",
            "memory usage: 36.0+ KB\n",
            "\n",
            "\n",
            "<class 'pandas.core.frame.DataFrame'>\n",
            "RangeIndex: 891 entries, 0 to 890\n",
            "Data columns (total 8 columns):\n",
            " #   Column       Non-Null Count  Dtype  \n",
            "---  ------       --------------  -----  \n",
            " 0   PassengerId  891 non-null    int64  \n",
            " 1   Survived     891 non-null    int64  \n",
            " 2   Pclass       891 non-null    int64  \n",
            " 3   Sex          891 non-null    int64  \n",
            " 4   Age          891 non-null    float64\n",
            " 5   SibSp        891 non-null    int64  \n",
            " 6   Parch        891 non-null    int64  \n",
            " 7   Fare         891 non-null    float64\n",
            "dtypes: float64(2), int64(6)\n",
            "memory usage: 55.8 KB\n"
          ],
          "name": "stdout"
        }
      ]
    },
    {
      "cell_type": "code",
      "metadata": {
        "id": "czK3cTiDNGBF",
        "outputId": "42db4870-910a-4ff1-d02c-b3d7ac3cd789",
        "colab": {
          "base_uri": "https://localhost:8080/"
        }
      },
      "source": [
        "from sklearn.tree import DecisionTreeClassifier # Import Decision Tree Classifier\n",
        "from sklearn.model_selection import train_test_split # Import train_test_split function\n",
        "from sklearn import metrics #Import scikit-learn metrics module for accuracy calculation\n",
        "\n",
        "feature_columns = ['Pclass','Sex','Age','SibSp','Parch','Fare']\n",
        "X = train[feature_columns]\n",
        "y = train['Survived']\n",
        "X_train, X_test, y_train, y_test = train_test_split(X, y, test_size=0.2, random_state=1)\n",
        "\n",
        "clf = DecisionTreeClassifier()\n",
        "clf.fit(X_train,y_train)\n",
        "\n",
        "y_pred = clf.predict(X_test)\n",
        "y_true = y_test\n",
        "# >>> from sklearn.metrics import accuracy_score\n",
        "# >>> y_pred = [0, 2, 1, 3]\n",
        "# >>> y_true = [0, 1, 2, 3]\n",
        "# >>> accuracy_score(y_true, y_pred)\n",
        "metrics.accuracy_score(y_true, y_pred)\n",
        "\n",
        "# cross validation\n",
        "from sklearn.model_selection import cross_val_score\n",
        "# make 10 random splits on data\n",
        "scores = cross_val_score(clf, X_train, y_train, scoring=\"accuracy\", cv=10)\n",
        "print(scores.mean())\n",
        "\n",
        "# TODO GridSearchCV"
      ],
      "execution_count": 92,
      "outputs": [
        {
          "output_type": "stream",
          "text": [
            "0.7850938967136151\n"
          ],
          "name": "stdout"
        }
      ]
    }
  ]
}