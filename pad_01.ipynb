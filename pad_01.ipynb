{
  "nbformat": 4,
  "nbformat_minor": 0,
  "metadata": {
    "colab": {
      "name": "pad_01.ipynb",
      "provenance": [],
      "collapsed_sections": [],
      "authorship_tag": "ABX9TyOnwBCJOiRDjN5O1Wc0ihZo",
      "include_colab_link": true
    },
    "kernelspec": {
      "name": "python3",
      "display_name": "Python 3"
    }
  },
  "cells": [
    {
      "cell_type": "markdown",
      "metadata": {
        "id": "view-in-github",
        "colab_type": "text"
      },
      "source": [
        "<a href=\"https://colab.research.google.com/github/tomaszpionka/ds-project/blob/main/pad_01.ipynb\" target=\"_parent\"><img src=\"https://colab.research.google.com/assets/colab-badge.svg\" alt=\"Open In Colab\"/></a>"
      ]
    },
    {
      "cell_type": "markdown",
      "metadata": {
        "id": "Ay7Jh1suXhPz"
      },
      "source": [
        "##Zadanie 1 \n",
        "\n",
        "Stwórz klasy dog i cat, które dziedziczyć będą po klasie animal. \n",
        "\n",
        "Klasa animal ma następujące atrybuty: \n",
        "\n",
        "isAlive = True \n",
        "\n",
        "gender = Do wyboru Male/Female (domyślnie Female) \n",
        "\n",
        "genus = nazwa gatunkowa (Canis dla psa, Felis  - dla kota) \n",
        "\n",
        "klasa animal posiada też metodę breed o parametrze partner. Metoda ta ma zwracać instancję klasy animal, typu tego samego, co instancja, w której wywołujemy metodę breed pod warunkiem, że instancja dla której wywołujemy metodę: \n",
        "\n",
        "a) Jest samicą \n",
        "\n",
        "b) Partner jest samcem \n",
        "\n",
        "c) Instancja oraz partner należą do jednego gatunku \n",
        "\n",
        "Klasa dog posiada metodę woof, zwracającą string woof woof. \n",
        "\n",
        "Klasa cat posiada metodę purr, zwracającą string purr. "
      ]
    },
    {
      "cell_type": "markdown",
      "metadata": {
        "id": "VOiKr49GXiVi"
      },
      "source": [
        "Stwórz instancję klas dog i cat, za pomocą metody breed. Do metody breed instrukcję przechwytywania wyjątku, która wyświetli string attribute not found, jeżeli podany w parametrze partner nie posiada niezbędnych atrybutów.   "
      ]
    },
    {
      "cell_type": "code",
      "metadata": {
        "colab": {
          "base_uri": "https://localhost:8080/"
        },
        "id": "uwYruL1OXc52",
        "outputId": "b4295d02-cb10-422e-8aad-2fe09a082626"
      },
      "source": [
        "class Animal():\n",
        "\n",
        "  def __init__(self, gender, genus):\n",
        "    self.isAlive = True\n",
        "    self.gender = \"female\"\n",
        "    self.genus = genus\n",
        "    if gender == \"male\":\n",
        "      self.gender = \"male\"\n",
        "\n",
        "  def breed(self, partner):\n",
        "    if partner.genus == self.genus and partner.gender != self.gender and self.gender == \"female\":\n",
        "        return Animal(\"test\",self.genus)\n",
        "    else:\n",
        "      return \"attribute not found\"\n",
        "\n",
        "\n",
        "x = Animal(\"male\", \"teste\")\n",
        "y = Animal(\"female\", \"test\")\n",
        "\n",
        "class Dog(Animal):\n",
        "    def __init__(self, gender):\n",
        "      super().__init__(gender, \"canis\")\n",
        "    def woof(self):\n",
        "      string = \"woof woof\"\n",
        "      return string\n",
        "\n",
        "class Cat(Animal):\n",
        "    def __init__(self, gender):\n",
        "      super().__init__(gender, \"felis\")\n",
        "    def purr(self):\n",
        "      string = \"purr\"\n",
        "      return string\n",
        "\n",
        "z = Cat(\"helloworld\")\n",
        "a = Cat(\"male\")\n",
        "\n",
        "print(z.breed(a))\n",
        "print(z.breed(y))\n",
        "print(a.purr())"
      ],
      "execution_count": 1,
      "outputs": [
        {
          "output_type": "stream",
          "text": [
            "<__main__.Animal object at 0x7f0b6ab320f0>\n",
            "attribute not found\n",
            "purr\n"
          ],
          "name": "stdout"
        }
      ]
    },
    {
      "cell_type": "markdown",
      "metadata": {
        "id": "lcPfKl3EXkSd"
      },
      "source": [
        "##Zadanie 2\n",
        "\n",
        "Stwórz klasę worker. \n",
        "\n",
        "Klasa ma atrybut salary, zwracającą wynagrodzenie.\n",
        "\n"
      ]
    },
    {
      "cell_type": "code",
      "metadata": {
        "colab": {
          "base_uri": "https://localhost:8080/"
        },
        "id": "RpCysfHrXpBI",
        "outputId": "121405d4-ad66-410c-f8cf-133927fb7ea0"
      },
      "source": [
        "class Worker():\n",
        "  def __init__(self, name, age, salary):\n",
        "    self.name = name\n",
        "    self.age = age\n",
        "    self.salary = salary\n",
        "\n",
        "  def getSalary(self):\n",
        "    return self.salary\n",
        "  \n",
        "b = Worker(\"John\", 24, 10)\n",
        "\n",
        "print(b.getSalary())"
      ],
      "execution_count": 2,
      "outputs": [
        {
          "output_type": "stream",
          "text": [
            "10\n"
          ],
          "name": "stdout"
        }
      ]
    },
    {
      "cell_type": "markdown",
      "metadata": {
        "id": "NElsn0ljXmHO"
      },
      "source": [
        "Napisz instrukcję, które: \n",
        "\n",
        "- policzy średnie zarobki w firmie \n",
        "\n",
        "- porówna średni zarobek wśród osób młodszych niż 30 lat i starszych. "
      ]
    },
    {
      "cell_type": "code",
      "metadata": {
        "id": "otJH_rtvXoxt",
        "outputId": "b2f3c35c-7cc7-457a-d354-c3d3af16184a",
        "colab": {
          "base_uri": "https://localhost:8080/"
        }
      },
      "source": [
        "Adam = Worker(\"Adam\", 1983, 1500)\n",
        "Anna = Worker(\"Anna\", 1981, 1700)\n",
        "Blazej = Worker(\"Błażej\", 1990, 1800)\n",
        "Beata = Worker(\"Beata\", 1992, 1600)\n",
        "Czeslaw = Worker(\"Czesław\", 1980, 2000)\n",
        "Cecylia = Worker(\"Cecylia\", 1983, 2100)\n",
        "Daniel = Worker(\"Daniel\", 1976, 1900)\n",
        "\n",
        "workers = [Adam, Anna, Blazej, Beata, Czeslaw, Cecylia, Daniel]\n",
        "\n",
        "import datetime\n",
        "now = datetime.datetime.now()\n",
        "year = now.year\n",
        "\n",
        "\n",
        "salary_under_30 = []\n",
        "salary_over_30 = []\n",
        "\n",
        "[salary_under_30.append(i.getSalary()) if ((year - i.age) < 30) else salary_over_30.append(i.getSalary()) for i in workers]\n",
        "\n",
        "print(\"average salary of people younger than 30:  {}\".format(sum(salary_under_30)/len(salary_under_30)))\n",
        "print(\"average salary of people 30 and older:     {}\".format(sum(salary_over_30)/len(salary_over_30)))"
      ],
      "execution_count": 9,
      "outputs": [
        {
          "output_type": "stream",
          "text": [
            "average salary of people younger than 30:  1600.0\n",
            "average salary of people 30 and older:     1833.3333333333333\n"
          ],
          "name": "stdout"
        }
      ]
    }
  ]
}