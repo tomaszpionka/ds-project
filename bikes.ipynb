{
  "nbformat": 4,
  "nbformat_minor": 0,
  "metadata": {
    "colab": {
      "name": "bikes.ipynb",
      "provenance": [],
      "collapsed_sections": [],
      "authorship_tag": "ABX9TyNKll5uB4qedYNGixul8fOL",
      "include_colab_link": true
    },
    "kernelspec": {
      "name": "python3",
      "display_name": "Python 3"
    }
  },
  "cells": [
    {
      "cell_type": "markdown",
      "metadata": {
        "id": "view-in-github",
        "colab_type": "text"
      },
      "source": [
        "<a href=\"https://colab.research.google.com/github/tomaszpionka/ds-project/blob/main/bikes.ipynb\" target=\"_parent\"><img src=\"https://colab.research.google.com/assets/colab-badge.svg\" alt=\"Open In Colab\"/></a>"
      ]
    },
    {
      "cell_type": "code",
      "metadata": {
        "colab": {
          "base_uri": "https://localhost:8080/",
          "height": 424
        },
        "id": "oDu_WJ6W5Vg9",
        "outputId": "927db89d-32ab-4f1b-ad23-7c1ddc944e8e"
      },
      "source": [
        "import pandas as pd\n",
        "import numpy as np\n",
        "import matplotlib.pyplot as plt\n",
        "import seaborn as sns\n",
        "import scipy\n",
        "\n",
        "df = pd.read_csv(\"https://raw.githubusercontent.com/tomaszpionka/ds-project/main/london_merged.csv\")\n",
        "df"
      ],
      "execution_count": 101,
      "outputs": [
        {
          "output_type": "execute_result",
          "data": {
            "text/html": [
              "<div>\n",
              "<style scoped>\n",
              "    .dataframe tbody tr th:only-of-type {\n",
              "        vertical-align: middle;\n",
              "    }\n",
              "\n",
              "    .dataframe tbody tr th {\n",
              "        vertical-align: top;\n",
              "    }\n",
              "\n",
              "    .dataframe thead th {\n",
              "        text-align: right;\n",
              "    }\n",
              "</style>\n",
              "<table border=\"1\" class=\"dataframe\">\n",
              "  <thead>\n",
              "    <tr style=\"text-align: right;\">\n",
              "      <th></th>\n",
              "      <th>timestamp</th>\n",
              "      <th>cnt</th>\n",
              "      <th>t1</th>\n",
              "      <th>t2</th>\n",
              "      <th>hum</th>\n",
              "      <th>wind_speed</th>\n",
              "      <th>weather_code</th>\n",
              "      <th>is_holiday</th>\n",
              "      <th>is_weekend</th>\n",
              "      <th>season</th>\n",
              "    </tr>\n",
              "  </thead>\n",
              "  <tbody>\n",
              "    <tr>\n",
              "      <th>0</th>\n",
              "      <td>2015-01-04 00:00:00</td>\n",
              "      <td>182</td>\n",
              "      <td>3.0</td>\n",
              "      <td>2.0</td>\n",
              "      <td>93.0</td>\n",
              "      <td>6.0</td>\n",
              "      <td>3.0</td>\n",
              "      <td>0.0</td>\n",
              "      <td>1.0</td>\n",
              "      <td>3.0</td>\n",
              "    </tr>\n",
              "    <tr>\n",
              "      <th>1</th>\n",
              "      <td>2015-01-04 01:00:00</td>\n",
              "      <td>138</td>\n",
              "      <td>3.0</td>\n",
              "      <td>2.5</td>\n",
              "      <td>93.0</td>\n",
              "      <td>5.0</td>\n",
              "      <td>1.0</td>\n",
              "      <td>0.0</td>\n",
              "      <td>1.0</td>\n",
              "      <td>3.0</td>\n",
              "    </tr>\n",
              "    <tr>\n",
              "      <th>2</th>\n",
              "      <td>2015-01-04 02:00:00</td>\n",
              "      <td>134</td>\n",
              "      <td>2.5</td>\n",
              "      <td>2.5</td>\n",
              "      <td>96.5</td>\n",
              "      <td>0.0</td>\n",
              "      <td>1.0</td>\n",
              "      <td>0.0</td>\n",
              "      <td>1.0</td>\n",
              "      <td>3.0</td>\n",
              "    </tr>\n",
              "    <tr>\n",
              "      <th>3</th>\n",
              "      <td>2015-01-04 03:00:00</td>\n",
              "      <td>72</td>\n",
              "      <td>2.0</td>\n",
              "      <td>2.0</td>\n",
              "      <td>100.0</td>\n",
              "      <td>0.0</td>\n",
              "      <td>1.0</td>\n",
              "      <td>0.0</td>\n",
              "      <td>1.0</td>\n",
              "      <td>3.0</td>\n",
              "    </tr>\n",
              "    <tr>\n",
              "      <th>4</th>\n",
              "      <td>2015-01-04 04:00:00</td>\n",
              "      <td>47</td>\n",
              "      <td>2.0</td>\n",
              "      <td>0.0</td>\n",
              "      <td>93.0</td>\n",
              "      <td>6.5</td>\n",
              "      <td>1.0</td>\n",
              "      <td>0.0</td>\n",
              "      <td>1.0</td>\n",
              "      <td>3.0</td>\n",
              "    </tr>\n",
              "    <tr>\n",
              "      <th>...</th>\n",
              "      <td>...</td>\n",
              "      <td>...</td>\n",
              "      <td>...</td>\n",
              "      <td>...</td>\n",
              "      <td>...</td>\n",
              "      <td>...</td>\n",
              "      <td>...</td>\n",
              "      <td>...</td>\n",
              "      <td>...</td>\n",
              "      <td>...</td>\n",
              "    </tr>\n",
              "    <tr>\n",
              "      <th>17409</th>\n",
              "      <td>2017-01-03 19:00:00</td>\n",
              "      <td>1042</td>\n",
              "      <td>5.0</td>\n",
              "      <td>1.0</td>\n",
              "      <td>81.0</td>\n",
              "      <td>19.0</td>\n",
              "      <td>3.0</td>\n",
              "      <td>0.0</td>\n",
              "      <td>0.0</td>\n",
              "      <td>3.0</td>\n",
              "    </tr>\n",
              "    <tr>\n",
              "      <th>17410</th>\n",
              "      <td>2017-01-03 20:00:00</td>\n",
              "      <td>541</td>\n",
              "      <td>5.0</td>\n",
              "      <td>1.0</td>\n",
              "      <td>81.0</td>\n",
              "      <td>21.0</td>\n",
              "      <td>4.0</td>\n",
              "      <td>0.0</td>\n",
              "      <td>0.0</td>\n",
              "      <td>3.0</td>\n",
              "    </tr>\n",
              "    <tr>\n",
              "      <th>17411</th>\n",
              "      <td>2017-01-03 21:00:00</td>\n",
              "      <td>337</td>\n",
              "      <td>5.5</td>\n",
              "      <td>1.5</td>\n",
              "      <td>78.5</td>\n",
              "      <td>24.0</td>\n",
              "      <td>4.0</td>\n",
              "      <td>0.0</td>\n",
              "      <td>0.0</td>\n",
              "      <td>3.0</td>\n",
              "    </tr>\n",
              "    <tr>\n",
              "      <th>17412</th>\n",
              "      <td>2017-01-03 22:00:00</td>\n",
              "      <td>224</td>\n",
              "      <td>5.5</td>\n",
              "      <td>1.5</td>\n",
              "      <td>76.0</td>\n",
              "      <td>23.0</td>\n",
              "      <td>4.0</td>\n",
              "      <td>0.0</td>\n",
              "      <td>0.0</td>\n",
              "      <td>3.0</td>\n",
              "    </tr>\n",
              "    <tr>\n",
              "      <th>17413</th>\n",
              "      <td>2017-01-03 23:00:00</td>\n",
              "      <td>139</td>\n",
              "      <td>5.0</td>\n",
              "      <td>1.0</td>\n",
              "      <td>76.0</td>\n",
              "      <td>22.0</td>\n",
              "      <td>2.0</td>\n",
              "      <td>0.0</td>\n",
              "      <td>0.0</td>\n",
              "      <td>3.0</td>\n",
              "    </tr>\n",
              "  </tbody>\n",
              "</table>\n",
              "<p>17414 rows × 10 columns</p>\n",
              "</div>"
            ],
            "text/plain": [
              "                 timestamp   cnt   t1  ...  is_holiday  is_weekend  season\n",
              "0      2015-01-04 00:00:00   182  3.0  ...         0.0         1.0     3.0\n",
              "1      2015-01-04 01:00:00   138  3.0  ...         0.0         1.0     3.0\n",
              "2      2015-01-04 02:00:00   134  2.5  ...         0.0         1.0     3.0\n",
              "3      2015-01-04 03:00:00    72  2.0  ...         0.0         1.0     3.0\n",
              "4      2015-01-04 04:00:00    47  2.0  ...         0.0         1.0     3.0\n",
              "...                    ...   ...  ...  ...         ...         ...     ...\n",
              "17409  2017-01-03 19:00:00  1042  5.0  ...         0.0         0.0     3.0\n",
              "17410  2017-01-03 20:00:00   541  5.0  ...         0.0         0.0     3.0\n",
              "17411  2017-01-03 21:00:00   337  5.5  ...         0.0         0.0     3.0\n",
              "17412  2017-01-03 22:00:00   224  5.5  ...         0.0         0.0     3.0\n",
              "17413  2017-01-03 23:00:00   139  5.0  ...         0.0         0.0     3.0\n",
              "\n",
              "[17414 rows x 10 columns]"
            ]
          },
          "metadata": {
            "tags": []
          },
          "execution_count": 101
        }
      ]
    },
    {
      "cell_type": "markdown",
      "metadata": {
        "id": "5vyRy5cN-aUk"
      },
      "source": [
        "# Przeprowadź regresję liniową, w której zmienną zależną jest kolumna cnt (wyłącz z analiz pierwszą kolumnę). "
      ]
    },
    {
      "cell_type": "code",
      "metadata": {
        "colab": {
          "base_uri": "https://localhost:8080/"
        },
        "id": "Di1hYXrI-sKz",
        "outputId": "fa3153e4-102f-4e2a-e2c8-bce0f5cfbf53"
      },
      "source": [
        "from sklearn.model_selection import train_test_split\n",
        "from sklearn.linear_model import LinearRegression\n",
        "from scipy.stats import pearsonr as r_coef\n",
        "import statsmodels.api as sm\n",
        "\n",
        "df_notime = df.copy()\n",
        "df_notime = df_notime.drop(['timestamp'], axis = 1)\n",
        "\n",
        "df_notime = (df_notime - df_notime.mean())/df_notime.std()\n",
        "\n",
        "# target\n",
        "df_y = df_notime['cnt']\n",
        "# data\n",
        "df_x = df_notime.drop(['cnt'], axis = 1)\n",
        "\n",
        "model = LinearRegression()\n",
        "model.fit(df_x, df_y)\n",
        "prediction = model.predict(df_x)\n",
        "\n",
        "from sklearn.metrics import r2_score\n",
        "r_squared_linear_reg = r2_score(df_y, prediction)\n",
        "r_squared_linear_reg"
      ],
      "execution_count": 102,
      "outputs": [
        {
          "output_type": "execute_result",
          "data": {
            "text/plain": [
              "0.26840705382611874"
            ]
          },
          "metadata": {
            "tags": []
          },
          "execution_count": 102
        }
      ]
    },
    {
      "cell_type": "markdown",
      "metadata": {
        "id": "zCTdwGnf-d0L"
      },
      "source": [
        "# Wskaż, które parametry regresji są istotne na poziomie istotności 0,05 "
      ]
    },
    {
      "cell_type": "code",
      "metadata": {
        "colab": {
          "base_uri": "https://localhost:8080/"
        },
        "id": "8m-j9NHkAPuX",
        "outputId": "f84969a6-ff84-448b-960d-d5fdbb5b42c5"
      },
      "source": [
        "df_x = sm.add_constant(df_x)\n",
        "model = sm.OLS(df_y,df_x)\n",
        "results = model.fit()\n",
        "p = results.pvalues\n",
        "#Get params significant at 0.05 p-value\n",
        "print(p[p<=0.05])"
      ],
      "execution_count": 70,
      "outputs": [
        {
          "output_type": "stream",
          "text": [
            "t1              2.842620e-13\n",
            "t2              1.922529e-02\n",
            "hum             0.000000e+00\n",
            "wind_speed      1.867415e-04\n",
            "weather_code    6.381311e-03\n",
            "is_holiday      4.446235e-08\n",
            "is_weekend      6.296503e-41\n",
            "season          6.821574e-18\n",
            "dtype: float64\n"
          ],
          "name": "stdout"
        }
      ]
    },
    {
      "cell_type": "markdown",
      "metadata": {
        "id": "l4hiI3SK-b1L"
      },
      "source": [
        "# Z koluny time stamp stwórz kolumnę hour oraz year "
      ]
    },
    {
      "cell_type": "code",
      "metadata": {
        "id": "YIC1whLiAvUB"
      },
      "source": [
        "import datetime\n",
        "from datetime import datetime\n",
        "\n",
        "df['timestamp']= pd.to_datetime(df['timestamp'])\n",
        "df['year'] = pd.to_datetime(df['timestamp'], format='%Y:%M:%D').dt.year\n",
        "df['hour'] = pd.to_datetime(df['timestamp'], format='%Y:%M:%D').dt.hour\n",
        "\n",
        "df_time = df.copy()\n",
        "\n",
        "df_time = df_time.drop(['timestamp'], axis=1)\n"
      ],
      "execution_count": 73,
      "outputs": []
    },
    {
      "cell_type": "markdown",
      "metadata": {
        "id": "uzCxpIob-eyP"
      },
      "source": [
        "# Przedstaw korelacje między wszystkimi zmiennymi za pomocą heatmapy."
      ]
    },
    {
      "cell_type": "code",
      "metadata": {
        "colab": {
          "base_uri": "https://localhost:8080/",
          "height": 455
        },
        "id": "R_gBZAygTjX5",
        "outputId": "94a97ae6-7d44-4fd6-d86a-0256564f4861"
      },
      "source": [
        "df_corr = df.corr()\n",
        "plt.figure(figsize=(12,6))\n",
        "sns.heatmap(df_corr, annot = True)"
      ],
      "execution_count": 76,
      "outputs": [
        {
          "output_type": "execute_result",
          "data": {
            "text/plain": [
              "<matplotlib.axes._subplots.AxesSubplot at 0x7f9cd2ac4550>"
            ]
          },
          "metadata": {
            "tags": []
          },
          "execution_count": 76
        },
        {
          "output_type": "display_data",
          "data": {
            "image/png": "[encoded data removed]",
            "text/plain": [
              "<Figure size 864x432 with 2 Axes>"
            ]
          },
          "metadata": {
            "tags": [],
            "needs_background": "light"
          }
        }
      ]
    },
    {
      "cell_type": "markdown",
      "metadata": {
        "id": "SHozUzfn-f3y"
      },
      "source": [
        "# Podziel dane ze względu na rok, przeprowadź dla każdego z lat osobną analizę regresyjną. "
      ]
    },
    {
      "cell_type": "code",
      "metadata": {
        "colab": {
          "base_uri": "https://localhost:8080/"
        },
        "id": "M8AMLqBPUBh8",
        "outputId": "0cd77617-b48e-4110-cb84-47641770846d"
      },
      "source": [
        "print(df_time.groupby('year')['cnt'].nunique())"
      ],
      "execution_count": 87,
      "outputs": [
        {
          "output_type": "stream",
          "text": [
            "year\n",
            "2015    2967\n",
            "2016    3040\n",
            "2017      71\n",
            "Name: cnt, dtype: int64\n"
          ],
          "name": "stdout"
        }
      ]
    },
    {
      "cell_type": "code",
      "metadata": {
        "id": "puh2F4U3Uyzj"
      },
      "source": [
        "df_2015 = df_time[df_time[\"year\"] == 2015]\n",
        "df_2016 = df_time[df_time[\"year\"] == 2016]\n",
        "df_2017 = df_time[df_time[\"year\"] == 2017]"
      ],
      "execution_count": 93,
      "outputs": []
    },
    {
      "cell_type": "code",
      "metadata": {
        "id": "AFtfJsRgVoXc"
      },
      "source": [
        "def linear_function(df):\n",
        "  df = df\n",
        "  df = df.copy()\n",
        "  print(df.head(3))\n",
        "  df_y = df['cnt']\n",
        "  df_x = df.drop(['cnt'], axis = 1)\n",
        "  model = LinearRegression()\n",
        "  model.fit(df_x, df_y)\n",
        "  prediction = model.predict(df_x)\n",
        "  r_squared_linear_reg = r2_score(df_y, prediction)\n",
        "  print(\"R^2 is equal to: {}\".format(r_squared_linear_reg))"
      ],
      "execution_count": 114,
      "outputs": []
    },
    {
      "cell_type": "code",
      "metadata": {
        "colab": {
          "base_uri": "https://localhost:8080/"
        },
        "id": "LuriG7mtXlfl",
        "outputId": "ffa322d1-a0f4-4bf8-8f0e-11a3917ed191"
      },
      "source": [
        "for i in [df_2015, df_2016, df_2017]:\n",
        "  linear_function(i)\n",
        "  print()"
      ],
      "execution_count": 115,
      "outputs": [
        {
          "output_type": "stream",
          "text": [
            "   cnt   t1   t2   hum  wind_speed  ...  is_holiday  is_weekend  season  year  hour\n",
            "0  182  3.0  2.0  93.0         6.0  ...         0.0         1.0     3.0  2015     0\n",
            "1  138  3.0  2.5  93.0         5.0  ...         0.0         1.0     3.0  2015     1\n",
            "2  134  2.5  2.5  96.5         0.0  ...         0.0         1.0     3.0  2015     2\n",
            "\n",
            "[3 rows x 11 columns]\n",
            "R^2 is equal to: 0.30508558722768087\n",
            "\n",
            "      cnt   t1   t2   hum  ...  is_weekend  season  year  hour\n",
            "8643  786  6.0  3.5  81.0  ...         0.0     3.0  2016     0\n",
            "8644  660  5.5  3.0  84.0  ...         0.0     3.0  2016     1\n",
            "8645  387  5.0  2.5  84.0  ...         0.0     3.0  2016     2\n",
            "\n",
            "[3 rows x 11 columns]\n",
            "R^2 is equal to: 0.3043269423313456\n",
            "\n",
            "       cnt   t1   t2   hum  ...  is_weekend  season  year  hour\n",
            "17342  933  7.5  5.0  84.5  ...         1.0     3.0  2017     0\n",
            "17343  895  7.0  5.0  87.0  ...         1.0     3.0  2017     1\n",
            "17344  339  7.0  4.0  87.0  ...         1.0     3.0  2017     2\n",
            "\n",
            "[3 rows x 11 columns]\n",
            "R^2 is equal to: 0.35487757028432165\n",
            "\n"
          ],
          "name": "stdout"
        }
      ]
    }
  ]
}