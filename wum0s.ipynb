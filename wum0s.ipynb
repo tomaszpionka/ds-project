{
  "nbformat": 4,
  "nbformat_minor": 0,
  "metadata": {
    "colab": {
      "name": "wum0s.ipynb",
      "provenance": [],
      "collapsed_sections": [],
      "include_colab_link": true
    },
    "kernelspec": {
      "display_name": "Python 3",
      "language": "python",
      "name": "python3"
    },
    "language_info": {
      "codemirror_mode": {
        "name": "ipython",
        "version": 3
      },
      "file_extension": ".py",
      "mimetype": "text/x-python",
      "name": "python",
      "nbconvert_exporter": "python",
      "pygments_lexer": "ipython3",
      "version": "3.6.8"
    }
  },
  "cells": [
    {
      "cell_type": "markdown",
      "metadata": {
        "id": "view-in-github",
        "colab_type": "text"
      },
      "source": [
        "<a href=\"https://colab.research.google.com/github/tomaszpionka/ds-project/blob/main/wum0s.ipynb\" target=\"_parent\"><img src=\"https://colab.research.google.com/assets/colab-badge.svg\" alt=\"Open In Colab\"/></a>"
      ]
    },
    {
      "cell_type": "markdown",
      "metadata": {
        "id": "TRFySqH51UKP"
      },
      "source": [
        "## Polecana literatura:\n",
        "* Python Data Science Handbook, Jake VanderPlas,  O’Reilly Media\n",
        "* \"An Introduction to statistical learning\", G.James et al.\n",
        "* Deep learning, Ian Goodfellow and Yoshua Bengio and Aaron Courville, MIT Press\n",
        "* Deep learning with PyTorch,  Eli Stevens et al. Manning\n",
        "* dokumnentacja PyTorch, numpy, pandas, python....\n"
      ]
    },
    {
      "cell_type": "markdown",
      "metadata": {
        "id": "BNANRomQ3Jvj"
      },
      "source": [
        "# Numpy"
      ]
    },
    {
      "cell_type": "code",
      "metadata": {
        "id": "BXnduXqL6CaV",
        "colab": {
          "base_uri": "https://localhost:8080/"
        },
        "outputId": "a1fcd99c-3169-49c4-a4c0-fac94453de95"
      },
      "source": [
        "import numpy as np\n",
        " \n",
        "x=np.array([[1,2,3], [4,5,6]])\n",
        "print(x)\n",
        "print(x.shape)"
      ],
      "execution_count": 1,
      "outputs": [
        {
          "output_type": "stream",
          "text": [
            "[[1 2 3]\n",
            " [4 5 6]]\n",
            "(2, 3)\n"
          ],
          "name": "stdout"
        }
      ]
    },
    {
      "cell_type": "code",
      "metadata": {
        "id": "l5aJzy4B7u-A",
        "colab": {
          "base_uri": "https://localhost:8080/"
        },
        "outputId": "f9ca48c5-38c3-4e00-9997-ae02041a8dbb"
      },
      "source": [
        "np.zeros((2,3))"
      ],
      "execution_count": null,
      "outputs": [
        {
          "output_type": "execute_result",
          "data": {
            "text/plain": [
              "array([[0., 0., 0.],\n",
              "       [0., 0., 0.]])"
            ]
          },
          "metadata": {
            "tags": []
          },
          "execution_count": 3
        }
      ]
    },
    {
      "cell_type": "code",
      "metadata": {
        "id": "-2BBhXbO6TF2",
        "colab": {
          "base_uri": "https://localhost:8080/"
        },
        "outputId": "6215e326-c206-4c20-ee09-04541d6c0422"
      },
      "source": [
        "np.arange(2,10,2)"
      ],
      "execution_count": 2,
      "outputs": [
        {
          "output_type": "execute_result",
          "data": {
            "text/plain": [
              "array([2, 4, 6, 8])"
            ]
          },
          "metadata": {
            "tags": []
          },
          "execution_count": 2
        }
      ]
    },
    {
      "cell_type": "code",
      "metadata": {
        "id": "6fVIUDic6TQD",
        "colab": {
          "base_uri": "https://localhost:8080/"
        },
        "outputId": "26072fe5-f1c4-42d7-ea69-e52541edb3e2"
      },
      "source": [
        "np.array([range(i, i + 4) for i in [1, 4, 36]])"
      ],
      "execution_count": null,
      "outputs": [
        {
          "output_type": "execute_result",
          "data": {
            "text/plain": [
              "array([[ 1,  2,  3,  4],\n",
              "       [ 4,  5,  6,  7],\n",
              "       [36, 37, 38, 39]])"
            ]
          },
          "metadata": {
            "tags": []
          },
          "execution_count": 5
        }
      ]
    },
    {
      "cell_type": "code",
      "metadata": {
        "id": "YBT-s4a766aM",
        "colab": {
          "base_uri": "https://localhost:8080/"
        },
        "outputId": "22eb36de-67f7-49c3-d28c-732a8f6eeffe"
      },
      "source": [
        "np.array([1,2,3]) +3.5 #broadcasting"
      ],
      "execution_count": null,
      "outputs": [
        {
          "output_type": "execute_result",
          "data": {
            "text/plain": [
              "array([4.5, 5.5, 6.5])"
            ]
          },
          "metadata": {
            "tags": []
          },
          "execution_count": 6
        }
      ]
    },
    {
      "cell_type": "markdown",
      "metadata": {
        "id": "C0oqirWepg4T"
      },
      "source": [
        "\n",
        "1. \n",
        "a) **Utwórz** tablicę w numpy o wymiarach (5,4) automatycznie uzupełniając ją kolejnymi liczbami od 1 do 20. Możesz wykorzystać np arange i reshape. \n",
        "\n",
        "  Następnie, do każdej wartości w pierwszej i ostatniej kolumnie dodaj 1. Wykorzystaj broadcasting i odpowiedni wektor. Wyswietl otrzymaną tablicę. W zadanniu nie używaj pętli."
      ]
    },
    {
      "cell_type": "code",
      "metadata": {
        "id": "YPD0Z5vllFq1",
        "colab": {
          "base_uri": "https://localhost:8080/"
        },
        "outputId": "0172870c-2810-4fb2-e548-6b0c0c114c02"
      },
      "source": [
        "np.arange(1,21,1).reshape(4,5) + [1,0,0,0,1]"
      ],
      "execution_count": null,
      "outputs": [
        {
          "output_type": "execute_result",
          "data": {
            "text/plain": [
              "array([[ 2,  2,  3,  4,  6],\n",
              "       [ 7,  7,  8,  9, 11],\n",
              "       [12, 12, 13, 14, 16],\n",
              "       [17, 17, 18, 19, 21]])"
            ]
          },
          "metadata": {
            "tags": []
          },
          "execution_count": 2
        }
      ]
    },
    {
      "cell_type": "markdown",
      "metadata": {
        "id": "NrvkLxgi90vU"
      },
      "source": [
        "b) Jeśli to możliwe, dla poniższych macierzy wykonaj kolejne operacje:\n",
        "- A+B\n",
        "- B-A\n",
        "- B/2\n",
        "- AB -mnożenie macierzy\n",
        "- C=AB.T - mnożenie macierzy A i transponowanej B\n",
        "- det(C) -wyznacznik macierzynp.linalg\n",
        "- iloczyn po współrzędnych(Hadamarda) macierzy A i B\n",
        "\n"
      ]
    },
    {
      "cell_type": "code",
      "metadata": {
        "id": "vr700EmsXpQ5"
      },
      "source": [
        "A = np.array( ((1,3,1), (-1, 2,2)))\n",
        "B = np.array(((1,2, -2), (1,1, 1)))"
      ],
      "execution_count": 3,
      "outputs": []
    },
    {
      "cell_type": "code",
      "metadata": {
        "colab": {
          "base_uri": "https://localhost:8080/"
        },
        "id": "3qfyWicGeajh",
        "outputId": "0982d6c8-6b59-400e-abc5-d9bb53f181f6"
      },
      "source": [
        "np.add(A,B)"
      ],
      "execution_count": 22,
      "outputs": [
        {
          "output_type": "execute_result",
          "data": {
            "text/plain": [
              "array([[ 2,  5, -1],\n",
              "       [ 0,  3,  3]])"
            ]
          },
          "metadata": {
            "tags": []
          },
          "execution_count": 22
        }
      ]
    },
    {
      "cell_type": "code",
      "metadata": {
        "colab": {
          "base_uri": "https://localhost:8080/"
        },
        "id": "RNSa_rgoedZ6",
        "outputId": "f3fc3900-828f-4012-f60b-d9d4552b8ea5"
      },
      "source": [
        "np.subtract(B,A)"
      ],
      "execution_count": 21,
      "outputs": [
        {
          "output_type": "execute_result",
          "data": {
            "text/plain": [
              "array([[ 0, -1, -3],\n",
              "       [ 2, -1, -1]])"
            ]
          },
          "metadata": {
            "tags": []
          },
          "execution_count": 21
        }
      ]
    },
    {
      "cell_type": "code",
      "metadata": {
        "colab": {
          "base_uri": "https://localhost:8080/"
        },
        "id": "3vexQFaoenfH",
        "outputId": "3bc2ef6f-6297-455f-f058-589a5766dfc4"
      },
      "source": [
        "B/2"
      ],
      "execution_count": 7,
      "outputs": [
        {
          "output_type": "execute_result",
          "data": {
            "text/plain": [
              "array([[ 0.5,  1. , -1. ],\n",
              "       [ 0.5,  0.5,  0.5]])"
            ]
          },
          "metadata": {
            "tags": []
          },
          "execution_count": 7
        }
      ]
    },
    {
      "cell_type": "code",
      "metadata": {
        "id": "dR_oTzZ-ehld"
      },
      "source": [
        "# nie można pomnożyć inaczej niż współczynnikami Hadamarda"
      ],
      "execution_count": 28,
      "outputs": []
    },
    {
      "cell_type": "code",
      "metadata": {
        "colab": {
          "base_uri": "https://localhost:8080/"
        },
        "id": "aKvMWVTce6zC",
        "outputId": "bd5a63c6-6bb1-47a8-9e34-c1492d95606d"
      },
      "source": [
        "C = A.dot(B.T)\n",
        "C"
      ],
      "execution_count": 27,
      "outputs": [
        {
          "output_type": "execute_result",
          "data": {
            "text/plain": [
              "array([[ 5,  5],\n",
              "       [-1,  3]])"
            ]
          },
          "metadata": {
            "tags": []
          },
          "execution_count": 27
        }
      ]
    },
    {
      "cell_type": "code",
      "metadata": {
        "colab": {
          "base_uri": "https://localhost:8080/"
        },
        "id": "0_21CPGufd9U",
        "outputId": "1f4805dd-65cf-4451-fbc5-b990187f7d26"
      },
      "source": [
        "np.linalg.det(C)"
      ],
      "execution_count": 12,
      "outputs": [
        {
          "output_type": "execute_result",
          "data": {
            "text/plain": [
              "19.999999999999996"
            ]
          },
          "metadata": {
            "tags": []
          },
          "execution_count": 12
        }
      ]
    },
    {
      "cell_type": "code",
      "metadata": {
        "colab": {
          "base_uri": "https://localhost:8080/"
        },
        "id": "zdKJbVujfjfz",
        "outputId": "047add65-07b3-4dbc-ebea-39239eeaa1cb"
      },
      "source": [
        "np.multiply(A,B)"
      ],
      "execution_count": 13,
      "outputs": [
        {
          "output_type": "execute_result",
          "data": {
            "text/plain": [
              "array([[ 1,  6, -2],\n",
              "       [-1,  2,  2]])"
            ]
          },
          "metadata": {
            "tags": []
          },
          "execution_count": 13
        }
      ]
    },
    {
      "cell_type": "markdown",
      "metadata": {
        "id": "lbw8vqcUm9S5"
      },
      "source": [
        "# Pandas i wczytywanie danych do colab\n",
        "\n",
        "2. Wczytaj pliki pogoda.csv pogoda2.csv na Google drive lub otwórz bezpośrednio   z lokalnego dysku. Znajdz w panelu \"Code snippets\" (z lewej) jak to zrobić. \n",
        "\n",
        "  Wykorzystując bibliotekę pandas wczytaj dane z pliku *pogoda.csv* i utwórz dataframe o nazwie **A**. Dodaj(append) do **A** dane ze słownika **B**(podany poniżej) i zapisz jako **A**. Wczytaj dane z pliku pogoda2 do dataframe o nazwie **C**.  Połącz **A** i **C** według kolumny *godzina* zachowując podobne formatowanie danych*."
      ]
    },
    {
      "cell_type": "code",
      "metadata": {
        "id": "xoVX_TZBxY-p"
      },
      "source": [
        " B=[{\"godzina\":\"10:00:00 AM\", \"temperatura [C]\":19,  \"szansa opadów [%]\":0} , {\"godzina\":\"11:00:00 AM\", \"temperatura [C]\":22,  \"szansa opadów [%]\":0} ]"
      ],
      "execution_count": null,
      "outputs": []
    },
    {
      "cell_type": "code",
      "metadata": {
        "id": "7ZpkzTOVzr2W",
        "colab": {
          "base_uri": "https://localhost:8080/",
          "height": 390
        },
        "outputId": "2b5e6dc2-fb6e-45da-f129-c6e8a2fdbe52"
      },
      "source": [
        "import pandas as pd\n",
        "\n",
        "A = pd.read_csv(\"https://raw.githubusercontent.com/tomaszpionka/ds-project/main/pogoda.csv\")\n",
        "\n",
        "C = pd.read_csv(\"https://raw.githubusercontent.com/tomaszpionka/ds-project/main/pogoda2.csv\")\n",
        "\n",
        "B = pd.DataFrame.from_dict(B)\n",
        "A = A.append(B, ignore_index=True)\n",
        "\n",
        "result = pd.concat([A, C], axis=1, ignore_index=True)\n",
        "\n",
        "from datetime import datetime\n",
        "# A = pd.to_datetime(A['godzina']).dt.strftime('%H:%M:%S')\n",
        "A['godzina'] = A['godzina'].apply(lambda x: datetime.strptime(x, '%H:%M:%S %p').strftime('%H:%M'))\n",
        "\n",
        "D = pd.merge(A, C, left_on='godzina', right_on='godzina')\n",
        "D"
      ],
      "execution_count": null,
      "outputs": [
        {
          "output_type": "execute_result",
          "data": {
            "text/html": [
              "<div>\n",
              "<style scoped>\n",
              "    .dataframe tbody tr th:only-of-type {\n",
              "        vertical-align: middle;\n",
              "    }\n",
              "\n",
              "    .dataframe tbody tr th {\n",
              "        vertical-align: top;\n",
              "    }\n",
              "\n",
              "    .dataframe thead th {\n",
              "        text-align: right;\n",
              "    }\n",
              "</style>\n",
              "<table border=\"1\" class=\"dataframe\">\n",
              "  <thead>\n",
              "    <tr style=\"text-align: right;\">\n",
              "      <th></th>\n",
              "      <th>godzina</th>\n",
              "      <th>temperatura [C]</th>\n",
              "      <th>szansa opadów [%]</th>\n",
              "      <th>wiatr [km/h]</th>\n",
              "    </tr>\n",
              "  </thead>\n",
              "  <tbody>\n",
              "    <tr>\n",
              "      <th>0</th>\n",
              "      <td>01:00</td>\n",
              "      <td>11</td>\n",
              "      <td>0</td>\n",
              "      <td>5</td>\n",
              "    </tr>\n",
              "    <tr>\n",
              "      <th>1</th>\n",
              "      <td>02:00</td>\n",
              "      <td>10</td>\n",
              "      <td>5</td>\n",
              "      <td>5</td>\n",
              "    </tr>\n",
              "    <tr>\n",
              "      <th>2</th>\n",
              "      <td>03:00</td>\n",
              "      <td>9</td>\n",
              "      <td>20</td>\n",
              "      <td>10</td>\n",
              "    </tr>\n",
              "    <tr>\n",
              "      <th>3</th>\n",
              "      <td>04:00</td>\n",
              "      <td>10</td>\n",
              "      <td>60</td>\n",
              "      <td>50</td>\n",
              "    </tr>\n",
              "    <tr>\n",
              "      <th>4</th>\n",
              "      <td>05:00</td>\n",
              "      <td>10</td>\n",
              "      <td>40</td>\n",
              "      <td>20</td>\n",
              "    </tr>\n",
              "    <tr>\n",
              "      <th>5</th>\n",
              "      <td>06:00</td>\n",
              "      <td>11</td>\n",
              "      <td>20</td>\n",
              "      <td>30</td>\n",
              "    </tr>\n",
              "    <tr>\n",
              "      <th>6</th>\n",
              "      <td>07:00</td>\n",
              "      <td>13</td>\n",
              "      <td>20</td>\n",
              "      <td>10</td>\n",
              "    </tr>\n",
              "    <tr>\n",
              "      <th>7</th>\n",
              "      <td>08:00</td>\n",
              "      <td>15</td>\n",
              "      <td>10</td>\n",
              "      <td>10</td>\n",
              "    </tr>\n",
              "    <tr>\n",
              "      <th>8</th>\n",
              "      <td>09:00</td>\n",
              "      <td>17</td>\n",
              "      <td>10</td>\n",
              "      <td>5</td>\n",
              "    </tr>\n",
              "    <tr>\n",
              "      <th>9</th>\n",
              "      <td>10:00</td>\n",
              "      <td>19</td>\n",
              "      <td>0</td>\n",
              "      <td>5</td>\n",
              "    </tr>\n",
              "    <tr>\n",
              "      <th>10</th>\n",
              "      <td>11:00</td>\n",
              "      <td>22</td>\n",
              "      <td>0</td>\n",
              "      <td>5</td>\n",
              "    </tr>\n",
              "  </tbody>\n",
              "</table>\n",
              "</div>"
            ],
            "text/plain": [
              "   godzina  temperatura [C]  szansa opadów [%]  wiatr [km/h]\n",
              "0    01:00               11                  0             5\n",
              "1    02:00               10                  5             5\n",
              "2    03:00                9                 20            10\n",
              "3    04:00               10                 60            50\n",
              "4    05:00               10                 40            20\n",
              "5    06:00               11                 20            30\n",
              "6    07:00               13                 20            10\n",
              "7    08:00               15                 10            10\n",
              "8    09:00               17                 10             5\n",
              "9    10:00               19                  0             5\n",
              "10   11:00               22                  0             5"
            ]
          },
          "metadata": {
            "tags": []
          },
          "execution_count": 53
        }
      ]
    },
    {
      "cell_type": "markdown",
      "metadata": {
        "id": "4waNnspynCg0"
      },
      "source": [
        "# Matplotlib"
      ]
    },
    {
      "cell_type": "markdown",
      "metadata": {
        "id": "Q7GnVQx1Mv1S"
      },
      "source": [
        "3. Utwórz wspólny wykres funkcji y=$1/(1+e^{-\\beta x}) $ w przedziale $<-10,10>$ dla 3 wartości $\\beta = [0.1,0.5, 1]$ . Dodaj legendę.\n",
        "\n",
        "- napisz metodę w python która oblicza powyższą funkcję. \n",
        "- utwórz zmienną reprezentującą wartości osi x, wykorzystując numpy.linspace¶\n",
        "- utwórz 3 wykresy wykorzystując matplotlib.pyplot\n",
        "- dodaj legendę i oznaczenia osi"
      ]
    },
    {
      "cell_type": "code",
      "metadata": {
        "id": "KEpc0JBo4brH",
        "colab": {
          "base_uri": "https://localhost:8080/",
          "height": 201
        },
        "outputId": "8d586b71-36a1-4eb3-aff1-2d2e315399a2"
      },
      "source": [
        "import matplotlib.pyplot as plt\n",
        "x = np.linspace(-10, 10) \n",
        " \n",
        "def fun_calc(x,b):\n",
        "  return 1/(1+(np.exp(-1*b*x)))\n",
        " \n",
        "beta = [0.1,0.5,1]\n",
        "for b in beta:\n",
        "  y = fun_calc(x,b)\n",
        "  plt.plot(x,y,label=\"B={}\".format(b))\n",
        " \n",
        "plt.xlabel('x')\n",
        "plt.ylabel('y')\n",
        "plt.legend()\n",
        "plt.show()"
      ],
      "execution_count": 39,
      "outputs": [
        {
          "output_type": "display_data",
          "data": {
            "image/png": "[encoded data removed]",
            "text/plain": [
              "<Figure size 432x288 with 1 Axes>"
            ]
          },
          "metadata": {
            "tags": [],
            "needs_background": "light"
          }
        }
      ]
    }
  ]
}