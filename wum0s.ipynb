{
  "nbformat": 4,
  "nbformat_minor": 0,
  "metadata": {
    "colab": {
      "name": "wum0s.ipynb",
      "provenance": [],
      "collapsed_sections": [],
      "toc_visible": true,
      "include_colab_link": true
    },
    "kernelspec": {
      "display_name": "Python 3",
      "language": "python",
      "name": "python3"
    },
    "language_info": {
      "codemirror_mode": {
        "name": "ipython",
        "version": 3
      },
      "file_extension": ".py",
      "mimetype": "text/x-python",
      "name": "python",
      "nbconvert_exporter": "python",
      "pygments_lexer": "ipython3",
      "version": "3.6.8"
    }
  },
  "cells": [
    {
      "cell_type": "markdown",
      "metadata": {
        "id": "view-in-github",
        "colab_type": "text"
      },
      "source": [
        "<a href=\"https://colab.research.google.com/github/tomaszpionka/ds-project/blob/main/wum0s.ipynb\" target=\"_parent\"><img src=\"https://colab.research.google.com/assets/colab-badge.svg\" alt=\"Open In Colab\"/></a>"
      ]
    },
    {
      "cell_type": "markdown",
      "metadata": {
        "id": "TRFySqH51UKP"
      },
      "source": [
        "## Polecana literatura:\n",
        "* Python Data Science Handbook, Jake VanderPlas,  O’Reilly Media\n",
        "* \"An Introduction to statistical learning\", G.James et al.\n",
        "* Deep learning, Ian Goodfellow and Yoshua Bengio and Aaron Courville, MIT Press\n",
        "* Deep learning with PyTorch,  Eli Stevens et al. Manning\n",
        "* dokumnentacja PyTorch, numpy, pandas, python....\n"
      ]
    },
    {
      "cell_type": "markdown",
      "metadata": {
        "id": "BNANRomQ3Jvj"
      },
      "source": [
        "# Numpy"
      ]
    },
    {
      "cell_type": "code",
      "metadata": {
        "id": "BXnduXqL6CaV",
        "colab": {
          "base_uri": "https://localhost:8080/"
        },
        "outputId": "0f2b61f8-07f5-40e9-fc69-ac47b89852d7"
      },
      "source": [
        "import numpy as np\n",
        "\n",
        "x=np.array([[1,2,3], [4,5,6]])\n",
        "print(x)\n",
        "print(x.shape)"
      ],
      "execution_count": null,
      "outputs": [
        {
          "output_type": "stream",
          "text": [
            "[[1 2 3]\n",
            " [4 5 6]]\n",
            "(2, 3)\n"
          ],
          "name": "stdout"
        }
      ]
    },
    {
      "cell_type": "code",
      "metadata": {
        "id": "l5aJzy4B7u-A",
        "colab": {
          "base_uri": "https://localhost:8080/"
        },
        "outputId": "f9ca48c5-38c3-4e00-9997-ae02041a8dbb"
      },
      "source": [
        "np.zeros((2,3))"
      ],
      "execution_count": null,
      "outputs": [
        {
          "output_type": "execute_result",
          "data": {
            "text/plain": [
              "array([[0., 0., 0.],\n",
              "       [0., 0., 0.]])"
            ]
          },
          "metadata": {
            "tags": []
          },
          "execution_count": 3
        }
      ]
    },
    {
      "cell_type": "code",
      "metadata": {
        "id": "-2BBhXbO6TF2",
        "colab": {
          "base_uri": "https://localhost:8080/"
        },
        "outputId": "b101481f-970f-4417-a25d-226223f4d8f4"
      },
      "source": [
        "np.arange(2,10,2)"
      ],
      "execution_count": null,
      "outputs": [
        {
          "output_type": "execute_result",
          "data": {
            "text/plain": [
              "array([2, 4, 6, 8])"
            ]
          },
          "metadata": {
            "tags": []
          },
          "execution_count": 4
        }
      ]
    },
    {
      "cell_type": "code",
      "metadata": {
        "id": "6fVIUDic6TQD",
        "colab": {
          "base_uri": "https://localhost:8080/"
        },
        "outputId": "26072fe5-f1c4-42d7-ea69-e52541edb3e2"
      },
      "source": [
        "np.array([range(i, i + 4) for i in [1, 4, 36]])"
      ],
      "execution_count": null,
      "outputs": [
        {
          "output_type": "execute_result",
          "data": {
            "text/plain": [
              "array([[ 1,  2,  3,  4],\n",
              "       [ 4,  5,  6,  7],\n",
              "       [36, 37, 38, 39]])"
            ]
          },
          "metadata": {
            "tags": []
          },
          "execution_count": 5
        }
      ]
    },
    {
      "cell_type": "code",
      "metadata": {
        "id": "YBT-s4a766aM",
        "colab": {
          "base_uri": "https://localhost:8080/"
        },
        "outputId": "22eb36de-67f7-49c3-d28c-732a8f6eeffe"
      },
      "source": [
        "np.array([1,2,3]) +3.5 #broadcasting"
      ],
      "execution_count": null,
      "outputs": [
        {
          "output_type": "execute_result",
          "data": {
            "text/plain": [
              "array([4.5, 5.5, 6.5])"
            ]
          },
          "metadata": {
            "tags": []
          },
          "execution_count": 6
        }
      ]
    },
    {
      "cell_type": "markdown",
      "metadata": {
        "id": "C0oqirWepg4T"
      },
      "source": [
        "\n",
        "1. \n",
        "a) **Utwórz** tablicę w numpy o wymiarach (5,4) automatycznie uzupełniając ją kolejnymi liczbami od 1 do 20. Możesz wykorzystać np arange i reshape. \n",
        "\n",
        "  Następnie, do każdej wartości w pierwszej i ostatniej kolumnie dodaj 1. Wykorzystaj broadcasting i odpowiedni wektor. Wyswietl otrzymaną tablicę. W zadanniu nie używaj pętli."
      ]
    },
    {
      "cell_type": "code",
      "metadata": {
        "id": "YPD0Z5vllFq1",
        "colab": {
          "base_uri": "https://localhost:8080/"
        },
        "outputId": "1d0c19b8-ed67-403c-aa9f-00a03b32a76d"
      },
      "source": [
        "np.arange(1,21,1).reshape(4,5)"
      ],
      "execution_count": null,
      "outputs": [
        {
          "output_type": "execute_result",
          "data": {
            "text/plain": [
              "array([[ 1,  2,  3,  4,  5],\n",
              "       [ 6,  7,  8,  9, 10],\n",
              "       [11, 12, 13, 14, 15],\n",
              "       [16, 17, 18, 19, 20]])"
            ]
          },
          "metadata": {
            "tags": []
          },
          "execution_count": 9
        }
      ]
    },
    {
      "cell_type": "markdown",
      "metadata": {
        "id": "NrvkLxgi90vU"
      },
      "source": [
        "b) Jeśli to możliwe, dla poniższych macierzy wykonaj kolejne operacje:\n",
        "- A+B\n",
        "- B-A\n",
        "- B/2\n",
        "- AB -mnożenie macierzy\n",
        "- C=AB.T - mnożenie macierzy A i transponowanej B\n",
        "- det(C) -wyznacznik macierzynp.linalg\n",
        "- iloczyn po współrzędnych(Hadamarda) macierzy A i B\n",
        "\n"
      ]
    },
    {
      "cell_type": "code",
      "metadata": {
        "id": "vr700EmsXpQ5",
        "colab": {
          "base_uri": "https://localhost:8080/"
        },
        "outputId": "c6c2711d-66db-43f8-a7bf-e91041f6a9e1"
      },
      "source": [
        "A = np.array( ((1,3,1), (-1, 2,2)))\n",
        "B = np.array(((1,2, -2), (1,1, 1)))\n",
        "\n",
        "A + B\n",
        "\n",
        "B - A\n",
        "\n",
        "B/2\n",
        "\n",
        "#  numpy.dot mnozenie macierzy\n",
        "\n",
        "np.transpose(B)"
      ],
      "execution_count": null,
      "outputs": [
        {
          "output_type": "execute_result",
          "data": {
            "text/plain": [
              "array([[ 1,  1],\n",
              "       [ 2,  1],\n",
              "       [-2,  1]])"
            ]
          },
          "metadata": {
            "tags": []
          },
          "execution_count": 14
        }
      ]
    },
    {
      "cell_type": "markdown",
      "metadata": {
        "id": "lbw8vqcUm9S5"
      },
      "source": [
        "# Pandas i wczytywanie danych do colab\n",
        "\n",
        "2. Wczytaj pliki pogoda.csv pogoda2.csv na Google drive lub otwórz bezpośrednio   z lokalnego dysku. Znajdz w panelu \"Code snippets\" (z lewej) jak to zrobić. \n",
        "\n",
        "  Wykorzystując bibliotekę pandas wczytaj dane z pliku *pogoda.csv* i utwórz dataframe o nazwie **A**. Dodaj(append) do **A** dane ze słownika **B**(podany poniżej) i zapisz jako **A**. Wczytaj dane z pliku pogoda2 do dataframe o nazwie **C**.  Połącz **A** i **C** według kolumny *godzina* zachowując podobne formatowanie danych*."
      ]
    },
    {
      "cell_type": "code",
      "metadata": {
        "id": "xoVX_TZBxY-p"
      },
      "source": [
        " B=[{\"godzina\":\"10:00:00 AM\", \"temperatura [C]\":19,  \"szansa opadów [%]\":0} , {\"godzina\":\"11:00:00 AM\", \"temperatura [C]\":22,  \"szansa opadów [%]\":0} ]"
      ],
      "execution_count": null,
      "outputs": []
    },
    {
      "cell_type": "code",
      "metadata": {
        "id": "7ZpkzTOVzr2W",
        "colab": {
          "base_uri": "https://localhost:8080/",
          "height": 390
        },
        "outputId": "2b5e6dc2-fb6e-45da-f129-c6e8a2fdbe52"
      },
      "source": [
        "import pandas as pd\n",
        "\n",
        "A = pd.read_csv(\"pogoda.csv\")\n",
        "\n",
        "C = pd.read_csv(\"pogoda2.csv\")\n",
        "\n",
        "B = pd.DataFrame.from_dict(B)\n",
        "A = A.append(B, ignore_index=True)\n",
        "\n",
        "result = pd.concat([A, C], axis=1, ignore_index=True)\n",
        "\n",
        "from datetime import datetime\n",
        "# A = pd.to_datetime(A['godzina']).dt.strftime('%H:%M:%S')\n",
        "A['godzina'] = A['godzina'].apply(lambda x: datetime.strptime(x, '%H:%M:%S %p').strftime('%H:%M'))\n",
        "\n",
        "D = pd.merge(A, C, left_on='godzina', right_on='godzina')\n",
        "D"
      ],
      "execution_count": null,
      "outputs": [
        {
          "output_type": "execute_result",
          "data": {
            "text/html": [
              "<div>\n",
              "<style scoped>\n",
              "    .dataframe tbody tr th:only-of-type {\n",
              "        vertical-align: middle;\n",
              "    }\n",
              "\n",
              "    .dataframe tbody tr th {\n",
              "        vertical-align: top;\n",
              "    }\n",
              "\n",
              "    .dataframe thead th {\n",
              "        text-align: right;\n",
              "    }\n",
              "</style>\n",
              "<table border=\"1\" class=\"dataframe\">\n",
              "  <thead>\n",
              "    <tr style=\"text-align: right;\">\n",
              "      <th></th>\n",
              "      <th>godzina</th>\n",
              "      <th>temperatura [C]</th>\n",
              "      <th>szansa opadów [%]</th>\n",
              "      <th>wiatr [km/h]</th>\n",
              "    </tr>\n",
              "  </thead>\n",
              "  <tbody>\n",
              "    <tr>\n",
              "      <th>0</th>\n",
              "      <td>01:00</td>\n",
              "      <td>11</td>\n",
              "      <td>0</td>\n",
              "      <td>5</td>\n",
              "    </tr>\n",
              "    <tr>\n",
              "      <th>1</th>\n",
              "      <td>02:00</td>\n",
              "      <td>10</td>\n",
              "      <td>5</td>\n",
              "      <td>5</td>\n",
              "    </tr>\n",
              "    <tr>\n",
              "      <th>2</th>\n",
              "      <td>03:00</td>\n",
              "      <td>9</td>\n",
              "      <td>20</td>\n",
              "      <td>10</td>\n",
              "    </tr>\n",
              "    <tr>\n",
              "      <th>3</th>\n",
              "      <td>04:00</td>\n",
              "      <td>10</td>\n",
              "      <td>60</td>\n",
              "      <td>50</td>\n",
              "    </tr>\n",
              "    <tr>\n",
              "      <th>4</th>\n",
              "      <td>05:00</td>\n",
              "      <td>10</td>\n",
              "      <td>40</td>\n",
              "      <td>20</td>\n",
              "    </tr>\n",
              "    <tr>\n",
              "      <th>5</th>\n",
              "      <td>06:00</td>\n",
              "      <td>11</td>\n",
              "      <td>20</td>\n",
              "      <td>30</td>\n",
              "    </tr>\n",
              "    <tr>\n",
              "      <th>6</th>\n",
              "      <td>07:00</td>\n",
              "      <td>13</td>\n",
              "      <td>20</td>\n",
              "      <td>10</td>\n",
              "    </tr>\n",
              "    <tr>\n",
              "      <th>7</th>\n",
              "      <td>08:00</td>\n",
              "      <td>15</td>\n",
              "      <td>10</td>\n",
              "      <td>10</td>\n",
              "    </tr>\n",
              "    <tr>\n",
              "      <th>8</th>\n",
              "      <td>09:00</td>\n",
              "      <td>17</td>\n",
              "      <td>10</td>\n",
              "      <td>5</td>\n",
              "    </tr>\n",
              "    <tr>\n",
              "      <th>9</th>\n",
              "      <td>10:00</td>\n",
              "      <td>19</td>\n",
              "      <td>0</td>\n",
              "      <td>5</td>\n",
              "    </tr>\n",
              "    <tr>\n",
              "      <th>10</th>\n",
              "      <td>11:00</td>\n",
              "      <td>22</td>\n",
              "      <td>0</td>\n",
              "      <td>5</td>\n",
              "    </tr>\n",
              "  </tbody>\n",
              "</table>\n",
              "</div>"
            ],
            "text/plain": [
              "   godzina  temperatura [C]  szansa opadów [%]  wiatr [km/h]\n",
              "0    01:00               11                  0             5\n",
              "1    02:00               10                  5             5\n",
              "2    03:00                9                 20            10\n",
              "3    04:00               10                 60            50\n",
              "4    05:00               10                 40            20\n",
              "5    06:00               11                 20            30\n",
              "6    07:00               13                 20            10\n",
              "7    08:00               15                 10            10\n",
              "8    09:00               17                 10             5\n",
              "9    10:00               19                  0             5\n",
              "10   11:00               22                  0             5"
            ]
          },
          "metadata": {
            "tags": []
          },
          "execution_count": 53
        }
      ]
    },
    {
      "cell_type": "markdown",
      "metadata": {
        "id": "4waNnspynCg0"
      },
      "source": [
        "# Matplotlib"
      ]
    },
    {
      "cell_type": "markdown",
      "metadata": {
        "id": "Q7GnVQx1Mv1S"
      },
      "source": [
        "3. Utwórz wspólny wykres funkcji y=$1/(1+e^{-\\beta x}) $ w przedziale $<-10,10>$ dla 3 wartości $\\beta = [0.1,0.5, 1]$ . Dodaj legendę.\n",
        "\n",
        "- napisz metodę w python która oblicza powyższą funkcję. \n",
        "- utwórz zmienną reprezentującą wartości osi x, wykorzystując numpy.linspace¶\n",
        "- utwórz 3 wykresy wykorzystując matplotlib.pyplot\n",
        "- dodaj legendę i oznaczenia osi"
      ]
    },
    {
      "cell_type": "code",
      "metadata": {
        "id": "KEpc0JBo4brH",
        "colab": {
          "base_uri": "https://localhost:8080/",
          "height": 279
        },
        "outputId": "52a62f32-77c9-4667-9501-351454e0b72a"
      },
      "source": [
        "import matplotlib.pyplot as plt\n",
        "x = np.linspace(-10, 10) \n",
        "\n",
        "def fun_calc(x,b):\n",
        "  return 1/(1+(np.exp(-1*b*x)))\n",
        "\n",
        "beta = [0.1,0.5,1]\n",
        "for b in beta:\n",
        "  y= fun_calc(x,b)\n",
        "  plt.plot(x,y)\n",
        "\n",
        "plt.xlabel('x')\n",
        "plt.ylabel('y')\n",
        "plt.show()"
      ],
      "execution_count": null,
      "outputs": [
        {
          "output_type": "display_data",
          "data": {
            "image/png": "[encoded data removed]",
            "text/plain": [
              "<Figure size 432x288 with 1 Axes>"
            ]
          },
          "metadata": {
            "tags": [],
            "needs_background": "light"
          }
        }
      ]
    }
  ]
}